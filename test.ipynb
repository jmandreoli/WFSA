{
 "cells": [
  {
   "cell_type": "markdown",
   "metadata": {},
   "source": [
    "# Probablilistic Finite State Automata"
   ]
  },
  {
   "cell_type": "code",
   "execution_count": 1,
   "metadata": {},
   "outputs": [
    {
     "name": "stdout",
     "output_type": "stream",
     "text": [
      "Populating the interactive namespace from numpy and matplotlib\n"
     ]
    }
   ],
   "source": [
    "%pylab inline\n",
    "import logging, sys\n",
    "logging.basicConfig(level=logging.INFO)\n",
    "\n",
    "from wfsa import WFSA, PFSA, Sample, csra_matrix, FileBatch"
   ]
  },
  {
   "cell_type": "code",
   "execution_count": 2,
   "metadata": {},
   "outputs": [],
   "source": [
    "from contextlib import contextmanager\n",
    "from time import time\n",
    "Tests = (\n",
    "  ('avglen',dict(\n",
    "    title='Expected length',\n",
    "    empirical=lambda X,start,sample: sum([sum(batch!=X.stop) for batch,_ in sample.content])/sample.size,\n",
    "    theoretical=lambda X,start: X.expected_length(start),\n",
    "  )),\n",
    "  ('entropy',dict(\n",
    "    title='Entropy',\n",
    "    empirical=lambda X,start,sample: -mean(X.logproba(sample,start)),\n",
    "    theoretical=lambda X,start: X.entropy(start),\n",
    "  )),\n",
    ")\n",
    "@contextmanager\n",
    "def ptime():\n",
    "  t = time()\n",
    "  try:\n",
    "    try: yield\n",
    "    except: print('Error!',end=''); raise\n",
    "  finally: print(' [{:.3g}s]'.format(time()-t))\n",
    "def test(X,nsample,start=0,**alt):\n",
    "  X.deterministic\n",
    "  print('Producing sample of size',nsample,end='',flush=True)\n",
    "  with ptime():\n",
    "    X.asample = sample = X.sample(nsample,start,store=FileBatch('samples',clear=True).store)\n",
    "    print(' on {} batches'.format(len(sample.content)),end='')\n",
    "  try:\n",
    "    for key,D in Tests:\n",
    "      print(D['title'])\n",
    "      print('\\tempirical  : ',end='',flush=True)\n",
    "      with ptime(): v = D['empirical'](X,start,sample); print('{:.15g}'.format(v),end='')\n",
    "      print('\\ttheoretical: ',end='',flush=True)\n",
    "      with ptime(): v = D['theoretical'](X,start); print('{:.15g}'.format(v),end='')\n",
    "      v = alt.get(key)\n",
    "      if v is not None: print('\\talternative: {:.15g}'.format(v))\n",
    "  finally:\n",
    "    print('Sample ({}/{})'.format(10,nsample))\n",
    "    sample.pprint(X.symb_names,10,translate={ord(X.symb_names[X.stop]):''})\n",
    "def display_html(X):\n",
    "  from IPython.display import display_html\n",
    "  display_html(X.as_html(),raw=True)"
   ]
  },
  {
   "cell_type": "markdown",
   "metadata": {},
   "source": [
    "## An example"
   ]
  },
  {
   "cell_type": "code",
   "execution_count": 3,
   "metadata": {
    "scrolled": false
   },
   "outputs": [
    {
     "name": "stderr",
     "output_type": "stream",
     "text": [
      "INFO:wfsa.probabilistic:Inferred stop symbol and final state: . F\n"
     ]
    },
    {
     "data": {
      "text/html": [
       "<table><tr><td title=\"4 states, 4 symbols, 8 transitions\n",
       "mtype: &lt;class 'numpy.ndarray'&gt;\" style=\"border:thin solid black;text-align:center;background-color:white;color:blue;\">🛈</td><td style=\"border:thin solid black;text-align:center;background-color:blue;color: white;writing-mode:vertical-lr;min-width:.5cm;\"><b>A</b></td><td style=\"border:thin solid black;text-align:center;background-color:blue;color: white;writing-mode:vertical-lr;min-width:.5cm;\"><b>B</b></td><td style=\"border:thin solid black;text-align:center;background-color:blue;color: white;writing-mode:vertical-lr;min-width:.5cm;\"><b>O</b></td><td style=\"border:thin solid black;text-align:center;background-color:blue;color: white;background-color: darkblue;writing-mode:vertical-lr;min-width:.5cm;\"><b>F</b></td></tr><tr><td style=\"border:thin solid black;text-align:center;background-color:blue;color: white;\"><b>A</b></td><td title=\"0.8\n",
       "a 0.8\" style=\"border:thin solid black;text-align:center;font-size:x-small\">0.8</td><td title=\"0.0\n",
       "\" style=\"border:thin solid black;text-align:center;font-size:x-small\"></td><td title=\"0.2\n",
       "| 0.2\" style=\"border:thin solid black;text-align:center;font-size:x-small\">0.2</td><td title=\"0.0\n",
       "\" style=\"border:thin solid black;text-align:center;font-size:x-small\"></td></tr><tr><td style=\"border:thin solid black;text-align:center;background-color:blue;color: white;\"><b>B</b></td><td title=\"0.0\n",
       "\" style=\"border:thin solid black;text-align:center;font-size:x-small\"></td><td title=\"0.6\n",
       "b 0.6\" style=\"border:thin solid black;text-align:center;font-size:x-small\">0.6</td><td title=\"0.4\n",
       "| 0.4\" style=\"border:thin solid black;text-align:center;font-size:x-small\">0.4</td><td title=\"0.0\n",
       "\" style=\"border:thin solid black;text-align:center;font-size:x-small\"></td></tr><tr><td style=\"border:thin solid black;text-align:center;background-color:blue;color: white;\"><b>O</b></td><td title=\"0.3\n",
       "a 0.3\" style=\"border:thin solid black;text-align:center;font-size:x-small\">0.3</td><td title=\"0.5\n",
       "b 0.5\" style=\"border:thin solid black;text-align:center;font-size:x-small\">0.5</td><td title=\"0.0\n",
       "\" style=\"border:thin solid black;text-align:center;font-size:x-small\"></td><td title=\"0.2\n",
       ". 0.2\" style=\"border:thin solid black;text-align:center;font-size:x-small\">0.2</td></tr><tr><td style=\"border:thin solid black;text-align:center;background-color:blue;color: white;background-color: darkblue;\"><b>F</b></td><td title=\"0.0\n",
       "\" style=\"border:thin solid black;text-align:center;font-size:x-small\"></td><td title=\"0.0\n",
       "\" style=\"border:thin solid black;text-align:center;font-size:x-small\"></td><td title=\"0.0\n",
       "\" style=\"border:thin solid black;text-align:center;font-size:x-small\"></td><td title=\"1.0\n",
       ". 1.0\" style=\"border:thin solid black;text-align:center;font-size:x-small\">1.0</td></tr></table>"
      ]
     },
     "metadata": {},
     "output_type": "display_data"
    },
    {
     "data": {
      "text/plain": [
       "<networkx.classes.digraph.DiGraph at 0x7f8c64ae3ac0>"
      ]
     },
     "execution_count": 3,
     "metadata": {},
     "output_type": "execute_result"
    },
    {
     "data": {
      "image/png": "[encoded data removed]",
      "text/plain": [
       "<Figure size 720x288 with 1 Axes>"
      ]
     },
     "metadata": {},
     "output_type": "display_data"
    }
   ],
   "source": [
    "X = PFSA.from_str('''\n",
    "A->A a .8\n",
    "A->O | .2\n",
    "B->B b .6\n",
    "B->O | .4\n",
    "O->A a .3\n",
    "O->B b .5\n",
    "O->F . .2\n",
    "F->F . 1.\n",
    "''')\n",
    "display_html(X)\n",
    "X.draw(figsize=(10,4))"
   ]
  },
  {
   "cell_type": "markdown",
   "metadata": {},
   "source": [
    "Draw a large sample from state 'O'"
   ]
  },
  {
   "cell_type": "code",
   "execution_count": 4,
   "metadata": {
    "scrolled": false
   },
   "outputs": [
    {
     "name": "stdout",
     "output_type": "stream",
     "text": [
      "Producing sample of size 100000 on 13 batches [0.383s]\n",
      "Expected length\n",
      "\tempirical  : 17.6835 [0.00602s]\n",
      "\ttheoretical: 17.75 [6.77e-05s]\n",
      "Entropy\n",
      "\tempirical  : 13.0615701664094 [0.629s]\n",
      "\ttheoretical: 13.1076061656671 [0.000218s]\n",
      "Sample (10/100000)\n",
      "24567    24   a|aaaaaaa|bb|b|bbbbbbbb|\n",
      "11333    54   aaaaa|b|b|bbb|aaaaaaaaaaaaa|bb|b|b|bb|aaaaaaaa|b|bbbb|\n",
      "53447     0   \n",
      "91128     3   aa|\n",
      "87140    14   aa|aaaaa|bb|b|\n",
      " 4796    61   aa|aaa|bbbbbb|bb|aaaaaaaaaaaaaaaaaaa|bbb|aaaaaa|bbbbbb|bbbbb|\n",
      "12415    58   aaaaaa|aaa|aa|b|bbbbb|aaaaaaa|bb|bbbbbbb|bbbbbb|bb|bb|aaa|\n",
      "96525    17   aa|aaa|b|bbbbbbb|\n",
      "82657    14   b|bbb|a|bbbbb|\n",
      "86793     8   aaaaaaa|\n"
     ]
    }
   ],
   "source": [
    "sample = test(X,100000,start='O')"
   ]
  },
  {
   "cell_type": "markdown",
   "metadata": {},
   "source": [
    "## Another example with super easy entropy\n",
    "\n",
    "Closed form of entropy: $\\frac{-p\\log p-q\\log q}{q}$"
   ]
  },
  {
   "cell_type": "code",
   "execution_count": 5,
   "metadata": {},
   "outputs": [
    {
     "name": "stderr",
     "output_type": "stream",
     "text": [
      "INFO:wfsa.probabilistic:Inferred stop symbol and final state: . F\n"
     ]
    },
    {
     "data": {
      "text/html": [
       "<table><tr><td title=\"2 states, 2 symbols, 3 transitions\n",
       "mtype: &lt;class 'numpy.ndarray'&gt;\" style=\"border:thin solid black;text-align:center;background-color:white;color:blue;\">🛈</td><td style=\"border:thin solid black;text-align:center;background-color:blue;color: white;writing-mode:vertical-lr;min-width:.5cm;\"><b>O</b></td><td style=\"border:thin solid black;text-align:center;background-color:blue;color: white;background-color: darkblue;writing-mode:vertical-lr;min-width:.5cm;\"><b>F</b></td></tr><tr><td style=\"border:thin solid black;text-align:center;background-color:blue;color: white;\"><b>O</b></td><td title=\"0.7\n",
       "a 0.7\" style=\"border:thin solid black;text-align:center;font-size:x-small\">0.7</td><td title=\"0.3\n",
       ". 0.3\" style=\"border:thin solid black;text-align:center;font-size:x-small\">0.3</td></tr><tr><td style=\"border:thin solid black;text-align:center;background-color:blue;color: white;background-color: darkblue;\"><b>F</b></td><td title=\"0.0\n",
       "\" style=\"border:thin solid black;text-align:center;font-size:x-small\"></td><td title=\"1.0\n",
       ". 1.0\" style=\"border:thin solid black;text-align:center;font-size:x-small\">1.0</td></tr></table>"
      ]
     },
     "metadata": {},
     "output_type": "display_data"
    },
    {
     "data": {
      "text/plain": [
       "<networkx.classes.digraph.DiGraph at 0x7f8c6426e490>"
      ]
     },
     "execution_count": 5,
     "metadata": {},
     "output_type": "execute_result"
    },
    {
     "data": {
      "image/png": "[encoded data removed]",
      "text/plain": [
       "<Figure size 432x288 with 1 Axes>"
      ]
     },
     "metadata": {},
     "output_type": "display_data"
    }
   ],
   "source": [
    "p = .7; q = 1.-p\n",
    "X = PFSA.from_str('''\n",
    "O->O a {}\n",
    "O->F . {}\n",
    "F->F . 1.\n",
    "'''.format(p,q))\n",
    "display_html(X)\n",
    "X.draw(dict(k=.7,K=2.))"
   ]
  },
  {
   "cell_type": "code",
   "execution_count": 6,
   "metadata": {},
   "outputs": [
    {
     "name": "stdout",
     "output_type": "stream",
     "text": [
      "Producing sample of size 100000 on 11 batches [0.0581s]\n",
      "Expected length\n",
      "\tempirical  : 2.33725 [0.0015s]\n",
      "\ttheoretical: 2.33333333333333 [6.44e-05s]\n",
      "\talternative: 2.33333333333333\n",
      "Entropy\n",
      "\tempirical  : 2.03761131704674 [0.055s]\n",
      "\ttheoretical: 2.03621434018298 [0.000182s]\n",
      "\talternative: 2.03621434018298\n",
      "Sample (10/100000)\n",
      "92675    1   a\n",
      "47103    1   a\n",
      "88700    0   \n",
      "72439    2   aa\n",
      "86892    1   a\n",
      "73828    2   aa\n",
      "63615    0   \n",
      "18994    3   aaa\n",
      "84522    2   aa\n",
      "28648    3   aaa\n"
     ]
    }
   ],
   "source": [
    "sample = test(X,100000,start='O',avglen=p/q,entropy=-(p*log(p)+q*log(q))/q)"
   ]
  },
  {
   "cell_type": "markdown",
   "metadata": {},
   "source": [
    "## Other example with sparse matrices\n",
    "\n",
    "Closed form of entropy: $L(-p\\log p-q\\log q)$"
   ]
  },
  {
   "cell_type": "code",
   "execution_count": 7,
   "metadata": {},
   "outputs": [
    {
     "name": "stderr",
     "output_type": "stream",
     "text": [
      "INFO:wfsa.probabilistic:Inferred stop symbol and final state: . 100\n"
     ]
    }
   ],
   "source": [
    "p =.7; L = 100; q = 1.-p\n",
    "W = [eye(L+1,k=1) for _ in range(2)]\n",
    "for w,z in zip(W,(p,q)): w *= z\n",
    "W.append(zeros((L+1,L+1)))\n",
    "W[-1][-1,-1] = 1\n",
    "W = [csra_matrix.initial(w) for w in W]\n",
    "X = PFSA(W,symb_names=('a','b','.'))"
   ]
  },
  {
   "cell_type": "code",
   "execution_count": 8,
   "metadata": {},
   "outputs": [
    {
     "data": {
      "text/html": [
       "<table><tr><td title=\"101 states, 3 symbols, 201 transitions\n",
       "mtype: &lt;class 'wfsa.util.csra_matrix'&gt;\" style=\"border:thin solid black;text-align:center;background-color:white;color:blue;\">🛈</td></tr></table>"
      ]
     },
     "metadata": {},
     "output_type": "display_data"
    }
   ],
   "source": [
    "display_html(X)"
   ]
  },
  {
   "cell_type": "code",
   "execution_count": 9,
   "metadata": {},
   "outputs": [
    {
     "name": "stdout",
     "output_type": "stream",
     "text": [
      "Producing sample of size 10000 on 1 batches [0.0853s]\n",
      "Expected length\n",
      "\tempirical  : 100 [0.00225s]\n",
      "\ttheoretical: 100 [4.67e-05s]\n",
      "\talternative: 100\n",
      "Entropy\n",
      "\tempirical  : 61.1318453708062 [8.68s]\n",
      "\ttheoretical: 61.0864302054893 [0.00135s]\n",
      "\talternative: 61.0864302054893\n",
      "Sample (10/10000)\n",
      "2762   100   ababbaabaababaabbbabaabaaaaaaaaaaaaaabbbaaaaaaaaaaaaaaaaaaabaabbbaaaaaababbaaabaaaabbaabaaaaaabbaaaa\n",
      "6389   100   aabaabaaaaaabbaababaaaaaabaaabbaaabaababaababaabaaabaaabaabaaaaaabaaabbaababbaaaaabaaabbabaababaaaba\n",
      "8157   100   baaaaababbaaabaaabbabaaababaaaaaabbaababaabaabaabbabababaaaaaaaaaaaaaaabaababbaaaaaaabaaaaaaaaaaabbb\n",
      " 333   100   aaabaaaaaaaaaaaaaaaaaaaabaabbabaaabaaaabaaaabbbaaaaabaaaababbaaaaabaaaabbaabaabbbaaaaabbaabaaaaaaaab\n",
      "4069   100   baababbaaaabbaaaaaaaabaaaaabaabaaaabaaaabbaaaaaaaaaaabaabaaabbabbabbbbaabaabaaaaaaaabaabaababbabbbab\n",
      "4631   100   aabaabbaaaababaaaaaaaabaabbabaaaaababaaaabbaaaabaaaaaaabbaaabbaabaabaababaaaabbbbaababaaaaababaaabaa\n",
      "2709   100   aaaabbabaaabaabaaaaababbabababaaabaababbbbbaabaaaaaabbaaabababaaaaaaaababaaaabaaabaabbaaaabaaaaaaaaa\n",
      "7744   100   aaabbbabaaabaaaaabaaaabbaaabaabaabaaaabaaabaababbaaaaabaaaaaaabaabbabbabaaababaabaaaaabaaaaaaaaaabaa\n",
      "6827   100   aabbaabbbaabaaaaabbbaaabaaaabbabaaaabbaaaaaaabaababaaaaabbabaaaaabbbaabaaaabaabaaaaaabbaabaabaaaaaaa\n",
      "9346   100   bbbaabbabaababaabaabababbaaabaabaaabaabaabaaababaabbaabaaaabbaabababaababaabaaaabaabaabaaaababaaaaaa\n"
     ]
    }
   ],
   "source": [
    "sample = test(X,10000,start=0,avglen=L,entropy=-L*(p*log(p)+q*log(q)))"
   ]
  },
  {
   "cell_type": "markdown",
   "metadata": {},
   "source": [
    "## Pruning"
   ]
  },
  {
   "cell_type": "code",
   "execution_count": 10,
   "metadata": {},
   "outputs": [],
   "source": [
    "X = WFSA.from_str('''\n",
    "O->A a .3\n",
    "O->B b .5\n",
    "O->F . .2\n",
    "A->A a .8\n",
    "A->O | .2\n",
    "B->B b .6\n",
    "B->O | .4\n",
    "F->F . 1.\n",
    "U->V | 1\n",
    "U->V a 1\n",
    "U->V b 1\n",
    "V->U | 1\n",
    "V->U a 1\n",
    "V->U b 1\n",
    "U->W | 1\n",
    "U->W a 1\n",
    "U->W b 1\n",
    "V->W | 1\n",
    "V->W a 1\n",
    "V->W b 1\n",
    "W->W | 0\n",
    "''')"
   ]
  },
  {
   "cell_type": "code",
   "execution_count": 11,
   "metadata": {},
   "outputs": [
    {
     "data": {
      "text/html": [
       "<table><tr><td title=\"7 states, 4 symbols, 20 transitions\n",
       "mtype: &lt;class 'numpy.ndarray'&gt;\" style=\"border:thin solid black;text-align:center;background-color:white;color:blue;\">🛈</td><td style=\"border:thin solid black;text-align:center;background-color:blue;color: white;writing-mode:vertical-lr;min-width:.5cm;\"><b>O</b></td><td style=\"border:thin solid black;text-align:center;background-color:blue;color: white;writing-mode:vertical-lr;min-width:.5cm;\"><b>A</b></td><td style=\"border:thin solid black;text-align:center;background-color:blue;color: white;writing-mode:vertical-lr;min-width:.5cm;\"><b>B</b></td><td style=\"border:thin solid black;text-align:center;background-color:blue;color: white;writing-mode:vertical-lr;min-width:.5cm;\"><b>F</b></td><td style=\"border:thin solid black;text-align:center;background-color:blue;color: white;writing-mode:vertical-lr;min-width:.5cm;\"><b>U</b></td><td style=\"border:thin solid black;text-align:center;background-color:blue;color: white;writing-mode:vertical-lr;min-width:.5cm;\"><b>V</b></td><td style=\"border:thin solid black;text-align:center;background-color:blue;color: white;writing-mode:vertical-lr;min-width:.5cm;\"><b>W</b></td></tr><tr><td style=\"border:thin solid black;text-align:center;background-color:blue;color: white;\"><b>O</b></td><td title=\"0.0\n",
       "\" style=\"border:thin solid black;text-align:center;font-size:x-small\"></td><td title=\"0.3\n",
       "a 0.3\" style=\"border:thin solid black;text-align:center;font-size:x-small\">0.3</td><td title=\"0.5\n",
       "b 0.5\" style=\"border:thin solid black;text-align:center;font-size:x-small\">0.5</td><td title=\"0.2\n",
       ". 0.2\" style=\"border:thin solid black;text-align:center;font-size:x-small\">0.2</td><td title=\"0.0\n",
       "\" style=\"border:thin solid black;text-align:center;font-size:x-small\"></td><td title=\"0.0\n",
       "\" style=\"border:thin solid black;text-align:center;font-size:x-small\"></td><td title=\"0.0\n",
       "\" style=\"border:thin solid black;text-align:center;font-size:x-small\"></td></tr><tr><td style=\"border:thin solid black;text-align:center;background-color:blue;color: white;\"><b>A</b></td><td title=\"0.2\n",
       "| 0.2\" style=\"border:thin solid black;text-align:center;font-size:x-small\">0.2</td><td title=\"0.8\n",
       "a 0.8\" style=\"border:thin solid black;text-align:center;font-size:x-small\">0.8</td><td title=\"0.0\n",
       "\" style=\"border:thin solid black;text-align:center;font-size:x-small\"></td><td title=\"0.0\n",
       "\" style=\"border:thin solid black;text-align:center;font-size:x-small\"></td><td title=\"0.0\n",
       "\" style=\"border:thin solid black;text-align:center;font-size:x-small\"></td><td title=\"0.0\n",
       "\" style=\"border:thin solid black;text-align:center;font-size:x-small\"></td><td title=\"0.0\n",
       "\" style=\"border:thin solid black;text-align:center;font-size:x-small\"></td></tr><tr><td style=\"border:thin solid black;text-align:center;background-color:blue;color: white;\"><b>B</b></td><td title=\"0.4\n",
       "| 0.4\" style=\"border:thin solid black;text-align:center;font-size:x-small\">0.4</td><td title=\"0.0\n",
       "\" style=\"border:thin solid black;text-align:center;font-size:x-small\"></td><td title=\"0.6\n",
       "b 0.6\" style=\"border:thin solid black;text-align:center;font-size:x-small\">0.6</td><td title=\"0.0\n",
       "\" style=\"border:thin solid black;text-align:center;font-size:x-small\"></td><td title=\"0.0\n",
       "\" style=\"border:thin solid black;text-align:center;font-size:x-small\"></td><td title=\"0.0\n",
       "\" style=\"border:thin solid black;text-align:center;font-size:x-small\"></td><td title=\"0.0\n",
       "\" style=\"border:thin solid black;text-align:center;font-size:x-small\"></td></tr><tr><td style=\"border:thin solid black;text-align:center;background-color:blue;color: white;\"><b>F</b></td><td title=\"0.0\n",
       "\" style=\"border:thin solid black;text-align:center;font-size:x-small\"></td><td title=\"0.0\n",
       "\" style=\"border:thin solid black;text-align:center;font-size:x-small\"></td><td title=\"0.0\n",
       "\" style=\"border:thin solid black;text-align:center;font-size:x-small\"></td><td title=\"1.0\n",
       ". 1.0\" style=\"border:thin solid black;text-align:center;font-size:x-small\">1.0</td><td title=\"0.0\n",
       "\" style=\"border:thin solid black;text-align:center;font-size:x-small\"></td><td title=\"0.0\n",
       "\" style=\"border:thin solid black;text-align:center;font-size:x-small\"></td><td title=\"0.0\n",
       "\" style=\"border:thin solid black;text-align:center;font-size:x-small\"></td></tr><tr><td style=\"border:thin solid black;text-align:center;background-color:blue;color: white;\"><b>U</b></td><td title=\"0.0\n",
       "\" style=\"border:thin solid black;text-align:center;font-size:x-small\"></td><td title=\"0.0\n",
       "\" style=\"border:thin solid black;text-align:center;font-size:x-small\"></td><td title=\"0.0\n",
       "\" style=\"border:thin solid black;text-align:center;font-size:x-small\"></td><td title=\"0.0\n",
       "\" style=\"border:thin solid black;text-align:center;font-size:x-small\"></td><td title=\"0.0\n",
       "\" style=\"border:thin solid black;text-align:center;font-size:x-small\"></td><td title=\"3.0\n",
       "a 1.0\n",
       "b 1.0\n",
       "| 1.0\" style=\"border:thin solid black;text-align:center;font-size:x-small\">3.0</td><td title=\"3.0\n",
       "a 1.0\n",
       "b 1.0\n",
       "| 1.0\" style=\"border:thin solid black;text-align:center;font-size:x-small\">3.0</td></tr><tr><td style=\"border:thin solid black;text-align:center;background-color:blue;color: white;\"><b>V</b></td><td title=\"0.0\n",
       "\" style=\"border:thin solid black;text-align:center;font-size:x-small\"></td><td title=\"0.0\n",
       "\" style=\"border:thin solid black;text-align:center;font-size:x-small\"></td><td title=\"0.0\n",
       "\" style=\"border:thin solid black;text-align:center;font-size:x-small\"></td><td title=\"0.0\n",
       "\" style=\"border:thin solid black;text-align:center;font-size:x-small\"></td><td title=\"3.0\n",
       "a 1.0\n",
       "b 1.0\n",
       "| 1.0\" style=\"border:thin solid black;text-align:center;font-size:x-small\">3.0</td><td title=\"0.0\n",
       "\" style=\"border:thin solid black;text-align:center;font-size:x-small\"></td><td title=\"3.0\n",
       "a 1.0\n",
       "b 1.0\n",
       "| 1.0\" style=\"border:thin solid black;text-align:center;font-size:x-small\">3.0</td></tr><tr><td style=\"border:thin solid black;text-align:center;background-color:blue;color: white;\"><b>W</b></td><td title=\"0.0\n",
       "\" style=\"border:thin solid black;text-align:center;font-size:x-small\"></td><td title=\"0.0\n",
       "\" style=\"border:thin solid black;text-align:center;font-size:x-small\"></td><td title=\"0.0\n",
       "\" style=\"border:thin solid black;text-align:center;font-size:x-small\"></td><td title=\"0.0\n",
       "\" style=\"border:thin solid black;text-align:center;font-size:x-small\"></td><td title=\"0.0\n",
       "\" style=\"border:thin solid black;text-align:center;font-size:x-small\"></td><td title=\"0.0\n",
       "\" style=\"border:thin solid black;text-align:center;font-size:x-small\"></td><td title=\"0.0\n",
       "\" style=\"border:thin solid black;text-align:center;font-size:x-small\"></td></tr></table>"
      ]
     },
     "metadata": {},
     "output_type": "display_data"
    },
    {
     "name": "stderr",
     "output_type": "stream",
     "text": [
      "INFO:wfsa.probabilistic:Inferred stop symbol and final state: . F\n",
      "INFO:wfsa.probabilistic:Pruning unreachable states: 3/7\n"
     ]
    },
    {
     "data": {
      "text/html": [
       "<table><tr><td title=\"4 states, 4 symbols, 8 transitions\n",
       "mtype: &lt;class 'numpy.ndarray'&gt;\" style=\"border:thin solid black;text-align:center;background-color:white;color:blue;\">🛈</td><td style=\"border:thin solid black;text-align:center;background-color:blue;color: white;writing-mode:vertical-lr;min-width:.5cm;\"><b>O</b></td><td style=\"border:thin solid black;text-align:center;background-color:blue;color: white;writing-mode:vertical-lr;min-width:.5cm;\"><b>A</b></td><td style=\"border:thin solid black;text-align:center;background-color:blue;color: white;writing-mode:vertical-lr;min-width:.5cm;\"><b>B</b></td><td style=\"border:thin solid black;text-align:center;background-color:blue;color: white;background-color: darkblue;writing-mode:vertical-lr;min-width:.5cm;\"><b>F</b></td></tr><tr><td style=\"border:thin solid black;text-align:center;background-color:blue;color: white;\"><b>O</b></td><td title=\"0.0\n",
       "\" style=\"border:thin solid black;text-align:center;font-size:x-small\"></td><td title=\"0.3\n",
       "a 0.3\" style=\"border:thin solid black;text-align:center;font-size:x-small\">0.3</td><td title=\"0.5\n",
       "b 0.5\" style=\"border:thin solid black;text-align:center;font-size:x-small\">0.5</td><td title=\"0.2\n",
       ". 0.2\" style=\"border:thin solid black;text-align:center;font-size:x-small\">0.2</td></tr><tr><td style=\"border:thin solid black;text-align:center;background-color:blue;color: white;\"><b>A</b></td><td title=\"0.2\n",
       "| 0.2\" style=\"border:thin solid black;text-align:center;font-size:x-small\">0.2</td><td title=\"0.8\n",
       "a 0.8\" style=\"border:thin solid black;text-align:center;font-size:x-small\">0.8</td><td title=\"0.0\n",
       "\" style=\"border:thin solid black;text-align:center;font-size:x-small\"></td><td title=\"0.0\n",
       "\" style=\"border:thin solid black;text-align:center;font-size:x-small\"></td></tr><tr><td style=\"border:thin solid black;text-align:center;background-color:blue;color: white;\"><b>B</b></td><td title=\"0.4\n",
       "| 0.4\" style=\"border:thin solid black;text-align:center;font-size:x-small\">0.4</td><td title=\"0.0\n",
       "\" style=\"border:thin solid black;text-align:center;font-size:x-small\"></td><td title=\"0.6\n",
       "b 0.6\" style=\"border:thin solid black;text-align:center;font-size:x-small\">0.6</td><td title=\"0.0\n",
       "\" style=\"border:thin solid black;text-align:center;font-size:x-small\"></td></tr><tr><td style=\"border:thin solid black;text-align:center;background-color:blue;color: white;background-color: darkblue;\"><b>F</b></td><td title=\"0.0\n",
       "\" style=\"border:thin solid black;text-align:center;font-size:x-small\"></td><td title=\"0.0\n",
       "\" style=\"border:thin solid black;text-align:center;font-size:x-small\"></td><td title=\"0.0\n",
       "\" style=\"border:thin solid black;text-align:center;font-size:x-small\"></td><td title=\"1.0\n",
       ". 1.0\" style=\"border:thin solid black;text-align:center;font-size:x-small\">1.0</td></tr></table>"
      ]
     },
     "metadata": {},
     "output_type": "display_data"
    }
   ],
   "source": [
    "display_html(X)\n",
    "X = X.toPFSA()\n",
    "display_html(X)"
   ]
  },
  {
   "cell_type": "markdown",
   "metadata": {},
   "source": [
    "## Intersection"
   ]
  },
  {
   "cell_type": "code",
   "execution_count": 12,
   "metadata": {},
   "outputs": [],
   "source": [
    "L = 5\n",
    "template,wstop = eye(L+1,k=1),zeros((L+1,L+1)); wstop[-1,-1] = 1.\n",
    "template,wstop = csra_matrix.initial(template),csra_matrix.initial(wstop)\n",
    "X_len = WFSA([wstop],template=template,symb_names=('.',),state_names=['L{}'.format(L-k) for k in range(L+1)])\n",
    "\n",
    "X_cnt = WFSA.from_str('''\n",
    "O->O a .35\n",
    "O->O b .15\n",
    "O->O . 1\n",
    "''',sparse=True)\n",
    "\n",
    "X_mot = WFSA.from_str('''\n",
    "O->A a 1\n",
    "O->O b 1\n",
    "A->F b 1\n",
    "A->A a 1\n",
    "F->F a 1\n",
    "F->F b 1\n",
    "F->F . 1\n",
    "''',sparse=True)"
   ]
  },
  {
   "cell_type": "code",
   "execution_count": 13,
   "metadata": {},
   "outputs": [
    {
     "data": {
      "text/html": [
       "<table><tr><td title=\"18 states, 3 symbols, 31 transitions\n",
       "mtype: &lt;class 'wfsa.util.csra_matrix'&gt;\" style=\"border:thin solid black;text-align:center;background-color:white;color:blue;\">🛈</td><td style=\"border:thin solid black;text-align:center;background-color:blue;color: white;writing-mode:vertical-lr;min-width:.5cm;\"><b>L5.O.O</b></td><td style=\"border:thin solid black;text-align:center;background-color:blue;color: white;writing-mode:vertical-lr;min-width:.5cm;\"><b>L5.A.O</b></td><td style=\"border:thin solid black;text-align:center;background-color:blue;color: white;writing-mode:vertical-lr;min-width:.5cm;\"><b>L5.F.O</b></td><td style=\"border:thin solid black;text-align:center;background-color:blue;color: white;writing-mode:vertical-lr;min-width:.5cm;\"><b>L4.O.O</b></td><td style=\"border:thin solid black;text-align:center;background-color:blue;color: white;writing-mode:vertical-lr;min-width:.5cm;\"><b>L4.A.O</b></td><td style=\"border:thin solid black;text-align:center;background-color:blue;color: white;writing-mode:vertical-lr;min-width:.5cm;\"><b>L4.F.O</b></td><td style=\"border:thin solid black;text-align:center;background-color:blue;color: white;writing-mode:vertical-lr;min-width:.5cm;\"><b>L3.O.O</b></td><td style=\"border:thin solid black;text-align:center;background-color:blue;color: white;writing-mode:vertical-lr;min-width:.5cm;\"><b>L3.A.O</b></td><td style=\"border:thin solid black;text-align:center;background-color:blue;color: white;writing-mode:vertical-lr;min-width:.5cm;\"><b>L3.F.O</b></td><td style=\"border:thin solid black;text-align:center;background-color:blue;color: white;writing-mode:vertical-lr;min-width:.5cm;\"><b>L2.O.O</b></td><td style=\"border:thin solid black;text-align:center;background-color:blue;color: white;writing-mode:vertical-lr;min-width:.5cm;\"><b>L2.A.O</b></td><td style=\"border:thin solid black;text-align:center;background-color:blue;color: white;writing-mode:vertical-lr;min-width:.5cm;\"><b>L2.F.O</b></td><td style=\"border:thin solid black;text-align:center;background-color:blue;color: white;writing-mode:vertical-lr;min-width:.5cm;\"><b>L1.O.O</b></td><td style=\"border:thin solid black;text-align:center;background-color:blue;color: white;writing-mode:vertical-lr;min-width:.5cm;\"><b>L1.A.O</b></td><td style=\"border:thin solid black;text-align:center;background-color:blue;color: white;writing-mode:vertical-lr;min-width:.5cm;\"><b>L1.F.O</b></td><td style=\"border:thin solid black;text-align:center;background-color:blue;color: white;writing-mode:vertical-lr;min-width:.5cm;\"><b>L0.O.O</b></td><td style=\"border:thin solid black;text-align:center;background-color:blue;color: white;writing-mode:vertical-lr;min-width:.5cm;\"><b>L0.A.O</b></td><td style=\"border:thin solid black;text-align:center;background-color:blue;color: white;writing-mode:vertical-lr;min-width:.5cm;\"><b>L0.F.O</b></td></tr><tr><td style=\"border:thin solid black;text-align:center;background-color:blue;color: white;\"><b>L5.O.O</b></td><td title=\"0.0\n",
       "\" style=\"border:thin solid black;text-align:center;font-size:x-small\"></td><td title=\"0.0\n",
       "\" style=\"border:thin solid black;text-align:center;font-size:x-small\"></td><td title=\"0.0\n",
       "\" style=\"border:thin solid black;text-align:center;font-size:x-small\"></td><td title=\"0.15\n",
       "b 0.15\" style=\"border:thin solid black;text-align:center;font-size:x-small\">0.15</td><td title=\"0.35\n",
       "a 0.35\" style=\"border:thin solid black;text-align:center;font-size:x-small\">0.35</td><td title=\"0.0\n",
       "\" style=\"border:thin solid black;text-align:center;font-size:x-small\"></td><td title=\"0.0\n",
       "\" style=\"border:thin solid black;text-align:center;font-size:x-small\"></td><td title=\"0.0\n",
       "\" style=\"border:thin solid black;text-align:center;font-size:x-small\"></td><td title=\"0.0\n",
       "\" style=\"border:thin solid black;text-align:center;font-size:x-small\"></td><td title=\"0.0\n",
       "\" style=\"border:thin solid black;text-align:center;font-size:x-small\"></td><td title=\"0.0\n",
       "\" style=\"border:thin solid black;text-align:center;font-size:x-small\"></td><td title=\"0.0\n",
       "\" style=\"border:thin solid black;text-align:center;font-size:x-small\"></td><td title=\"0.0\n",
       "\" style=\"border:thin solid black;text-align:center;font-size:x-small\"></td><td title=\"0.0\n",
       "\" style=\"border:thin solid black;text-align:center;font-size:x-small\"></td><td title=\"0.0\n",
       "\" style=\"border:thin solid black;text-align:center;font-size:x-small\"></td><td title=\"0.0\n",
       "\" style=\"border:thin solid black;text-align:center;font-size:x-small\"></td><td title=\"0.0\n",
       "\" style=\"border:thin solid black;text-align:center;font-size:x-small\"></td><td title=\"0.0\n",
       "\" style=\"border:thin solid black;text-align:center;font-size:x-small\"></td></tr><tr><td style=\"border:thin solid black;text-align:center;background-color:blue;color: white;\"><b>L5.A.O</b></td><td title=\"0.0\n",
       "\" style=\"border:thin solid black;text-align:center;font-size:x-small\"></td><td title=\"0.0\n",
       "\" style=\"border:thin solid black;text-align:center;font-size:x-small\"></td><td title=\"0.0\n",
       "\" style=\"border:thin solid black;text-align:center;font-size:x-small\"></td><td title=\"0.0\n",
       "\" style=\"border:thin solid black;text-align:center;font-size:x-small\"></td><td title=\"0.35\n",
       "a 0.35\" style=\"border:thin solid black;text-align:center;font-size:x-small\">0.35</td><td title=\"0.15\n",
       "b 0.15\" style=\"border:thin solid black;text-align:center;font-size:x-small\">0.15</td><td title=\"0.0\n",
       "\" style=\"border:thin solid black;text-align:center;font-size:x-small\"></td><td title=\"0.0\n",
       "\" style=\"border:thin solid black;text-align:center;font-size:x-small\"></td><td title=\"0.0\n",
       "\" style=\"border:thin solid black;text-align:center;font-size:x-small\"></td><td title=\"0.0\n",
       "\" style=\"border:thin solid black;text-align:center;font-size:x-small\"></td><td title=\"0.0\n",
       "\" style=\"border:thin solid black;text-align:center;font-size:x-small\"></td><td title=\"0.0\n",
       "\" style=\"border:thin solid black;text-align:center;font-size:x-small\"></td><td title=\"0.0\n",
       "\" style=\"border:thin solid black;text-align:center;font-size:x-small\"></td><td title=\"0.0\n",
       "\" style=\"border:thin solid black;text-align:center;font-size:x-small\"></td><td title=\"0.0\n",
       "\" style=\"border:thin solid black;text-align:center;font-size:x-small\"></td><td title=\"0.0\n",
       "\" style=\"border:thin solid black;text-align:center;font-size:x-small\"></td><td title=\"0.0\n",
       "\" style=\"border:thin solid black;text-align:center;font-size:x-small\"></td><td title=\"0.0\n",
       "\" style=\"border:thin solid black;text-align:center;font-size:x-small\"></td></tr><tr><td style=\"border:thin solid black;text-align:center;background-color:blue;color: white;\"><b>L5.F.O</b></td><td title=\"0.0\n",
       "\" style=\"border:thin solid black;text-align:center;font-size:x-small\"></td><td title=\"0.0\n",
       "\" style=\"border:thin solid black;text-align:center;font-size:x-small\"></td><td title=\"0.0\n",
       "\" style=\"border:thin solid black;text-align:center;font-size:x-small\"></td><td title=\"0.0\n",
       "\" style=\"border:thin solid black;text-align:center;font-size:x-small\"></td><td title=\"0.0\n",
       "\" style=\"border:thin solid black;text-align:center;font-size:x-small\"></td><td title=\"0.5\n",
       "a 0.35\n",
       "b 0.15\" style=\"border:thin solid black;text-align:center;font-size:x-small\">0.5</td><td title=\"0.0\n",
       "\" style=\"border:thin solid black;text-align:center;font-size:x-small\"></td><td title=\"0.0\n",
       "\" style=\"border:thin solid black;text-align:center;font-size:x-small\"></td><td title=\"0.0\n",
       "\" style=\"border:thin solid black;text-align:center;font-size:x-small\"></td><td title=\"0.0\n",
       "\" style=\"border:thin solid black;text-align:center;font-size:x-small\"></td><td title=\"0.0\n",
       "\" style=\"border:thin solid black;text-align:center;font-size:x-small\"></td><td title=\"0.0\n",
       "\" style=\"border:thin solid black;text-align:center;font-size:x-small\"></td><td title=\"0.0\n",
       "\" style=\"border:thin solid black;text-align:center;font-size:x-small\"></td><td title=\"0.0\n",
       "\" style=\"border:thin solid black;text-align:center;font-size:x-small\"></td><td title=\"0.0\n",
       "\" style=\"border:thin solid black;text-align:center;font-size:x-small\"></td><td title=\"0.0\n",
       "\" style=\"border:thin solid black;text-align:center;font-size:x-small\"></td><td title=\"0.0\n",
       "\" style=\"border:thin solid black;text-align:center;font-size:x-small\"></td><td title=\"0.0\n",
       "\" style=\"border:thin solid black;text-align:center;font-size:x-small\"></td></tr><tr><td style=\"border:thin solid black;text-align:center;background-color:blue;color: white;\"><b>L4.O.O</b></td><td title=\"0.0\n",
       "\" style=\"border:thin solid black;text-align:center;font-size:x-small\"></td><td title=\"0.0\n",
       "\" style=\"border:thin solid black;text-align:center;font-size:x-small\"></td><td title=\"0.0\n",
       "\" style=\"border:thin solid black;text-align:center;font-size:x-small\"></td><td title=\"0.0\n",
       "\" style=\"border:thin solid black;text-align:center;font-size:x-small\"></td><td title=\"0.0\n",
       "\" style=\"border:thin solid black;text-align:center;font-size:x-small\"></td><td title=\"0.0\n",
       "\" style=\"border:thin solid black;text-align:center;font-size:x-small\"></td><td title=\"0.15\n",
       "b 0.15\" style=\"border:thin solid black;text-align:center;font-size:x-small\">0.15</td><td title=\"0.35\n",
       "a 0.35\" style=\"border:thin solid black;text-align:center;font-size:x-small\">0.35</td><td title=\"0.0\n",
       "\" style=\"border:thin solid black;text-align:center;font-size:x-small\"></td><td title=\"0.0\n",
       "\" style=\"border:thin solid black;text-align:center;font-size:x-small\"></td><td title=\"0.0\n",
       "\" style=\"border:thin solid black;text-align:center;font-size:x-small\"></td><td title=\"0.0\n",
       "\" style=\"border:thin solid black;text-align:center;font-size:x-small\"></td><td title=\"0.0\n",
       "\" style=\"border:thin solid black;text-align:center;font-size:x-small\"></td><td title=\"0.0\n",
       "\" style=\"border:thin solid black;text-align:center;font-size:x-small\"></td><td title=\"0.0\n",
       "\" style=\"border:thin solid black;text-align:center;font-size:x-small\"></td><td title=\"0.0\n",
       "\" style=\"border:thin solid black;text-align:center;font-size:x-small\"></td><td title=\"0.0\n",
       "\" style=\"border:thin solid black;text-align:center;font-size:x-small\"></td><td title=\"0.0\n",
       "\" style=\"border:thin solid black;text-align:center;font-size:x-small\"></td></tr><tr><td style=\"border:thin solid black;text-align:center;background-color:blue;color: white;\"><b>L4.A.O</b></td><td title=\"0.0\n",
       "\" style=\"border:thin solid black;text-align:center;font-size:x-small\"></td><td title=\"0.0\n",
       "\" style=\"border:thin solid black;text-align:center;font-size:x-small\"></td><td title=\"0.0\n",
       "\" style=\"border:thin solid black;text-align:center;font-size:x-small\"></td><td title=\"0.0\n",
       "\" style=\"border:thin solid black;text-align:center;font-size:x-small\"></td><td title=\"0.0\n",
       "\" style=\"border:thin solid black;text-align:center;font-size:x-small\"></td><td title=\"0.0\n",
       "\" style=\"border:thin solid black;text-align:center;font-size:x-small\"></td><td title=\"0.0\n",
       "\" style=\"border:thin solid black;text-align:center;font-size:x-small\"></td><td title=\"0.35\n",
       "a 0.35\" style=\"border:thin solid black;text-align:center;font-size:x-small\">0.35</td><td title=\"0.15\n",
       "b 0.15\" style=\"border:thin solid black;text-align:center;font-size:x-small\">0.15</td><td title=\"0.0\n",
       "\" style=\"border:thin solid black;text-align:center;font-size:x-small\"></td><td title=\"0.0\n",
       "\" style=\"border:thin solid black;text-align:center;font-size:x-small\"></td><td title=\"0.0\n",
       "\" style=\"border:thin solid black;text-align:center;font-size:x-small\"></td><td title=\"0.0\n",
       "\" style=\"border:thin solid black;text-align:center;font-size:x-small\"></td><td title=\"0.0\n",
       "\" style=\"border:thin solid black;text-align:center;font-size:x-small\"></td><td title=\"0.0\n",
       "\" style=\"border:thin solid black;text-align:center;font-size:x-small\"></td><td title=\"0.0\n",
       "\" style=\"border:thin solid black;text-align:center;font-size:x-small\"></td><td title=\"0.0\n",
       "\" style=\"border:thin solid black;text-align:center;font-size:x-small\"></td><td title=\"0.0\n",
       "\" style=\"border:thin solid black;text-align:center;font-size:x-small\"></td></tr><tr><td style=\"border:thin solid black;text-align:center;background-color:blue;color: white;\"><b>L4.F.O</b></td><td title=\"0.0\n",
       "\" style=\"border:thin solid black;text-align:center;font-size:x-small\"></td><td title=\"0.0\n",
       "\" style=\"border:thin solid black;text-align:center;font-size:x-small\"></td><td title=\"0.0\n",
       "\" style=\"border:thin solid black;text-align:center;font-size:x-small\"></td><td title=\"0.0\n",
       "\" style=\"border:thin solid black;text-align:center;font-size:x-small\"></td><td title=\"0.0\n",
       "\" style=\"border:thin solid black;text-align:center;font-size:x-small\"></td><td title=\"0.0\n",
       "\" style=\"border:thin solid black;text-align:center;font-size:x-small\"></td><td title=\"0.0\n",
       "\" style=\"border:thin solid black;text-align:center;font-size:x-small\"></td><td title=\"0.0\n",
       "\" style=\"border:thin solid black;text-align:center;font-size:x-small\"></td><td title=\"0.5\n",
       "a 0.35\n",
       "b 0.15\" style=\"border:thin solid black;text-align:center;font-size:x-small\">0.5</td><td title=\"0.0\n",
       "\" style=\"border:thin solid black;text-align:center;font-size:x-small\"></td><td title=\"0.0\n",
       "\" style=\"border:thin solid black;text-align:center;font-size:x-small\"></td><td title=\"0.0\n",
       "\" style=\"border:thin solid black;text-align:center;font-size:x-small\"></td><td title=\"0.0\n",
       "\" style=\"border:thin solid black;text-align:center;font-size:x-small\"></td><td title=\"0.0\n",
       "\" style=\"border:thin solid black;text-align:center;font-size:x-small\"></td><td title=\"0.0\n",
       "\" style=\"border:thin solid black;text-align:center;font-size:x-small\"></td><td title=\"0.0\n",
       "\" style=\"border:thin solid black;text-align:center;font-size:x-small\"></td><td title=\"0.0\n",
       "\" style=\"border:thin solid black;text-align:center;font-size:x-small\"></td><td title=\"0.0\n",
       "\" style=\"border:thin solid black;text-align:center;font-size:x-small\"></td></tr><tr><td style=\"border:thin solid black;text-align:center;background-color:blue;color: white;\"><b>L3.O.O</b></td><td title=\"0.0\n",
       "\" style=\"border:thin solid black;text-align:center;font-size:x-small\"></td><td title=\"0.0\n",
       "\" style=\"border:thin solid black;text-align:center;font-size:x-small\"></td><td title=\"0.0\n",
       "\" style=\"border:thin solid black;text-align:center;font-size:x-small\"></td><td title=\"0.0\n",
       "\" style=\"border:thin solid black;text-align:center;font-size:x-small\"></td><td title=\"0.0\n",
       "\" style=\"border:thin solid black;text-align:center;font-size:x-small\"></td><td title=\"0.0\n",
       "\" style=\"border:thin solid black;text-align:center;font-size:x-small\"></td><td title=\"0.0\n",
       "\" style=\"border:thin solid black;text-align:center;font-size:x-small\"></td><td title=\"0.0\n",
       "\" style=\"border:thin solid black;text-align:center;font-size:x-small\"></td><td title=\"0.0\n",
       "\" style=\"border:thin solid black;text-align:center;font-size:x-small\"></td><td title=\"0.15\n",
       "b 0.15\" style=\"border:thin solid black;text-align:center;font-size:x-small\">0.15</td><td title=\"0.35\n",
       "a 0.35\" style=\"border:thin solid black;text-align:center;font-size:x-small\">0.35</td><td title=\"0.0\n",
       "\" style=\"border:thin solid black;text-align:center;font-size:x-small\"></td><td title=\"0.0\n",
       "\" style=\"border:thin solid black;text-align:center;font-size:x-small\"></td><td title=\"0.0\n",
       "\" style=\"border:thin solid black;text-align:center;font-size:x-small\"></td><td title=\"0.0\n",
       "\" style=\"border:thin solid black;text-align:center;font-size:x-small\"></td><td title=\"0.0\n",
       "\" style=\"border:thin solid black;text-align:center;font-size:x-small\"></td><td title=\"0.0\n",
       "\" style=\"border:thin solid black;text-align:center;font-size:x-small\"></td><td title=\"0.0\n",
       "\" style=\"border:thin solid black;text-align:center;font-size:x-small\"></td></tr><tr><td style=\"border:thin solid black;text-align:center;background-color:blue;color: white;\"><b>L3.A.O</b></td><td title=\"0.0\n",
       "\" style=\"border:thin solid black;text-align:center;font-size:x-small\"></td><td title=\"0.0\n",
       "\" style=\"border:thin solid black;text-align:center;font-size:x-small\"></td><td title=\"0.0\n",
       "\" style=\"border:thin solid black;text-align:center;font-size:x-small\"></td><td title=\"0.0\n",
       "\" style=\"border:thin solid black;text-align:center;font-size:x-small\"></td><td title=\"0.0\n",
       "\" style=\"border:thin solid black;text-align:center;font-size:x-small\"></td><td title=\"0.0\n",
       "\" style=\"border:thin solid black;text-align:center;font-size:x-small\"></td><td title=\"0.0\n",
       "\" style=\"border:thin solid black;text-align:center;font-size:x-small\"></td><td title=\"0.0\n",
       "\" style=\"border:thin solid black;text-align:center;font-size:x-small\"></td><td title=\"0.0\n",
       "\" style=\"border:thin solid black;text-align:center;font-size:x-small\"></td><td title=\"0.0\n",
       "\" style=\"border:thin solid black;text-align:center;font-size:x-small\"></td><td title=\"0.35\n",
       "a 0.35\" style=\"border:thin solid black;text-align:center;font-size:x-small\">0.35</td><td title=\"0.15\n",
       "b 0.15\" style=\"border:thin solid black;text-align:center;font-size:x-small\">0.15</td><td title=\"0.0\n",
       "\" style=\"border:thin solid black;text-align:center;font-size:x-small\"></td><td title=\"0.0\n",
       "\" style=\"border:thin solid black;text-align:center;font-size:x-small\"></td><td title=\"0.0\n",
       "\" style=\"border:thin solid black;text-align:center;font-size:x-small\"></td><td title=\"0.0\n",
       "\" style=\"border:thin solid black;text-align:center;font-size:x-small\"></td><td title=\"0.0\n",
       "\" style=\"border:thin solid black;text-align:center;font-size:x-small\"></td><td title=\"0.0\n",
       "\" style=\"border:thin solid black;text-align:center;font-size:x-small\"></td></tr><tr><td style=\"border:thin solid black;text-align:center;background-color:blue;color: white;\"><b>L3.F.O</b></td><td title=\"0.0\n",
       "\" style=\"border:thin solid black;text-align:center;font-size:x-small\"></td><td title=\"0.0\n",
       "\" style=\"border:thin solid black;text-align:center;font-size:x-small\"></td><td title=\"0.0\n",
       "\" style=\"border:thin solid black;text-align:center;font-size:x-small\"></td><td title=\"0.0\n",
       "\" style=\"border:thin solid black;text-align:center;font-size:x-small\"></td><td title=\"0.0\n",
       "\" style=\"border:thin solid black;text-align:center;font-size:x-small\"></td><td title=\"0.0\n",
       "\" style=\"border:thin solid black;text-align:center;font-size:x-small\"></td><td title=\"0.0\n",
       "\" style=\"border:thin solid black;text-align:center;font-size:x-small\"></td><td title=\"0.0\n",
       "\" style=\"border:thin solid black;text-align:center;font-size:x-small\"></td><td title=\"0.0\n",
       "\" style=\"border:thin solid black;text-align:center;font-size:x-small\"></td><td title=\"0.0\n",
       "\" style=\"border:thin solid black;text-align:center;font-size:x-small\"></td><td title=\"0.0\n",
       "\" style=\"border:thin solid black;text-align:center;font-size:x-small\"></td><td title=\"0.5\n",
       "a 0.35\n",
       "b 0.15\" style=\"border:thin solid black;text-align:center;font-size:x-small\">0.5</td><td title=\"0.0\n",
       "\" style=\"border:thin solid black;text-align:center;font-size:x-small\"></td><td title=\"0.0\n",
       "\" style=\"border:thin solid black;text-align:center;font-size:x-small\"></td><td title=\"0.0\n",
       "\" style=\"border:thin solid black;text-align:center;font-size:x-small\"></td><td title=\"0.0\n",
       "\" style=\"border:thin solid black;text-align:center;font-size:x-small\"></td><td title=\"0.0\n",
       "\" style=\"border:thin solid black;text-align:center;font-size:x-small\"></td><td title=\"0.0\n",
       "\" style=\"border:thin solid black;text-align:center;font-size:x-small\"></td></tr><tr><td style=\"border:thin solid black;text-align:center;background-color:blue;color: white;\"><b>L2.O.O</b></td><td title=\"0.0\n",
       "\" style=\"border:thin solid black;text-align:center;font-size:x-small\"></td><td title=\"0.0\n",
       "\" style=\"border:thin solid black;text-align:center;font-size:x-small\"></td><td title=\"0.0\n",
       "\" style=\"border:thin solid black;text-align:center;font-size:x-small\"></td><td title=\"0.0\n",
       "\" style=\"border:thin solid black;text-align:center;font-size:x-small\"></td><td title=\"0.0\n",
       "\" style=\"border:thin solid black;text-align:center;font-size:x-small\"></td><td title=\"0.0\n",
       "\" style=\"border:thin solid black;text-align:center;font-size:x-small\"></td><td title=\"0.0\n",
       "\" style=\"border:thin solid black;text-align:center;font-size:x-small\"></td><td title=\"0.0\n",
       "\" style=\"border:thin solid black;text-align:center;font-size:x-small\"></td><td title=\"0.0\n",
       "\" style=\"border:thin solid black;text-align:center;font-size:x-small\"></td><td title=\"0.0\n",
       "\" style=\"border:thin solid black;text-align:center;font-size:x-small\"></td><td title=\"0.0\n",
       "\" style=\"border:thin solid black;text-align:center;font-size:x-small\"></td><td title=\"0.0\n",
       "\" style=\"border:thin solid black;text-align:center;font-size:x-small\"></td><td title=\"0.15\n",
       "b 0.15\" style=\"border:thin solid black;text-align:center;font-size:x-small\">0.15</td><td title=\"0.35\n",
       "a 0.35\" style=\"border:thin solid black;text-align:center;font-size:x-small\">0.35</td><td title=\"0.0\n",
       "\" style=\"border:thin solid black;text-align:center;font-size:x-small\"></td><td title=\"0.0\n",
       "\" style=\"border:thin solid black;text-align:center;font-size:x-small\"></td><td title=\"0.0\n",
       "\" style=\"border:thin solid black;text-align:center;font-size:x-small\"></td><td title=\"0.0\n",
       "\" style=\"border:thin solid black;text-align:center;font-size:x-small\"></td></tr><tr><td style=\"border:thin solid black;text-align:center;background-color:blue;color: white;\"><b>L2.A.O</b></td><td title=\"0.0\n",
       "\" style=\"border:thin solid black;text-align:center;font-size:x-small\"></td><td title=\"0.0\n",
       "\" style=\"border:thin solid black;text-align:center;font-size:x-small\"></td><td title=\"0.0\n",
       "\" style=\"border:thin solid black;text-align:center;font-size:x-small\"></td><td title=\"0.0\n",
       "\" style=\"border:thin solid black;text-align:center;font-size:x-small\"></td><td title=\"0.0\n",
       "\" style=\"border:thin solid black;text-align:center;font-size:x-small\"></td><td title=\"0.0\n",
       "\" style=\"border:thin solid black;text-align:center;font-size:x-small\"></td><td title=\"0.0\n",
       "\" style=\"border:thin solid black;text-align:center;font-size:x-small\"></td><td title=\"0.0\n",
       "\" style=\"border:thin solid black;text-align:center;font-size:x-small\"></td><td title=\"0.0\n",
       "\" style=\"border:thin solid black;text-align:center;font-size:x-small\"></td><td title=\"0.0\n",
       "\" style=\"border:thin solid black;text-align:center;font-size:x-small\"></td><td title=\"0.0\n",
       "\" style=\"border:thin solid black;text-align:center;font-size:x-small\"></td><td title=\"0.0\n",
       "\" style=\"border:thin solid black;text-align:center;font-size:x-small\"></td><td title=\"0.0\n",
       "\" style=\"border:thin solid black;text-align:center;font-size:x-small\"></td><td title=\"0.35\n",
       "a 0.35\" style=\"border:thin solid black;text-align:center;font-size:x-small\">0.35</td><td title=\"0.15\n",
       "b 0.15\" style=\"border:thin solid black;text-align:center;font-size:x-small\">0.15</td><td title=\"0.0\n",
       "\" style=\"border:thin solid black;text-align:center;font-size:x-small\"></td><td title=\"0.0\n",
       "\" style=\"border:thin solid black;text-align:center;font-size:x-small\"></td><td title=\"0.0\n",
       "\" style=\"border:thin solid black;text-align:center;font-size:x-small\"></td></tr><tr><td style=\"border:thin solid black;text-align:center;background-color:blue;color: white;\"><b>L2.F.O</b></td><td title=\"0.0\n",
       "\" style=\"border:thin solid black;text-align:center;font-size:x-small\"></td><td title=\"0.0\n",
       "\" style=\"border:thin solid black;text-align:center;font-size:x-small\"></td><td title=\"0.0\n",
       "\" style=\"border:thin solid black;text-align:center;font-size:x-small\"></td><td title=\"0.0\n",
       "\" style=\"border:thin solid black;text-align:center;font-size:x-small\"></td><td title=\"0.0\n",
       "\" style=\"border:thin solid black;text-align:center;font-size:x-small\"></td><td title=\"0.0\n",
       "\" style=\"border:thin solid black;text-align:center;font-size:x-small\"></td><td title=\"0.0\n",
       "\" style=\"border:thin solid black;text-align:center;font-size:x-small\"></td><td title=\"0.0\n",
       "\" style=\"border:thin solid black;text-align:center;font-size:x-small\"></td><td title=\"0.0\n",
       "\" style=\"border:thin solid black;text-align:center;font-size:x-small\"></td><td title=\"0.0\n",
       "\" style=\"border:thin solid black;text-align:center;font-size:x-small\"></td><td title=\"0.0\n",
       "\" style=\"border:thin solid black;text-align:center;font-size:x-small\"></td><td title=\"0.0\n",
       "\" style=\"border:thin solid black;text-align:center;font-size:x-small\"></td><td title=\"0.0\n",
       "\" style=\"border:thin solid black;text-align:center;font-size:x-small\"></td><td title=\"0.0\n",
       "\" style=\"border:thin solid black;text-align:center;font-size:x-small\"></td><td title=\"0.5\n",
       "a 0.35\n",
       "b 0.15\" style=\"border:thin solid black;text-align:center;font-size:x-small\">0.5</td><td title=\"0.0\n",
       "\" style=\"border:thin solid black;text-align:center;font-size:x-small\"></td><td title=\"0.0\n",
       "\" style=\"border:thin solid black;text-align:center;font-size:x-small\"></td><td title=\"0.0\n",
       "\" style=\"border:thin solid black;text-align:center;font-size:x-small\"></td></tr><tr><td style=\"border:thin solid black;text-align:center;background-color:blue;color: white;\"><b>L1.O.O</b></td><td title=\"0.0\n",
       "\" style=\"border:thin solid black;text-align:center;font-size:x-small\"></td><td title=\"0.0\n",
       "\" style=\"border:thin solid black;text-align:center;font-size:x-small\"></td><td title=\"0.0\n",
       "\" style=\"border:thin solid black;text-align:center;font-size:x-small\"></td><td title=\"0.0\n",
       "\" style=\"border:thin solid black;text-align:center;font-size:x-small\"></td><td title=\"0.0\n",
       "\" style=\"border:thin solid black;text-align:center;font-size:x-small\"></td><td title=\"0.0\n",
       "\" style=\"border:thin solid black;text-align:center;font-size:x-small\"></td><td title=\"0.0\n",
       "\" style=\"border:thin solid black;text-align:center;font-size:x-small\"></td><td title=\"0.0\n",
       "\" style=\"border:thin solid black;text-align:center;font-size:x-small\"></td><td title=\"0.0\n",
       "\" style=\"border:thin solid black;text-align:center;font-size:x-small\"></td><td title=\"0.0\n",
       "\" style=\"border:thin solid black;text-align:center;font-size:x-small\"></td><td title=\"0.0\n",
       "\" style=\"border:thin solid black;text-align:center;font-size:x-small\"></td><td title=\"0.0\n",
       "\" style=\"border:thin solid black;text-align:center;font-size:x-small\"></td><td title=\"0.0\n",
       "\" style=\"border:thin solid black;text-align:center;font-size:x-small\"></td><td title=\"0.0\n",
       "\" style=\"border:thin solid black;text-align:center;font-size:x-small\"></td><td title=\"0.0\n",
       "\" style=\"border:thin solid black;text-align:center;font-size:x-small\"></td><td title=\"0.15\n",
       "b 0.15\" style=\"border:thin solid black;text-align:center;font-size:x-small\">0.15</td><td title=\"0.35\n",
       "a 0.35\" style=\"border:thin solid black;text-align:center;font-size:x-small\">0.35</td><td title=\"0.0\n",
       "\" style=\"border:thin solid black;text-align:center;font-size:x-small\"></td></tr><tr><td style=\"border:thin solid black;text-align:center;background-color:blue;color: white;\"><b>L1.A.O</b></td><td title=\"0.0\n",
       "\" style=\"border:thin solid black;text-align:center;font-size:x-small\"></td><td title=\"0.0\n",
       "\" style=\"border:thin solid black;text-align:center;font-size:x-small\"></td><td title=\"0.0\n",
       "\" style=\"border:thin solid black;text-align:center;font-size:x-small\"></td><td title=\"0.0\n",
       "\" style=\"border:thin solid black;text-align:center;font-size:x-small\"></td><td title=\"0.0\n",
       "\" style=\"border:thin solid black;text-align:center;font-size:x-small\"></td><td title=\"0.0\n",
       "\" style=\"border:thin solid black;text-align:center;font-size:x-small\"></td><td title=\"0.0\n",
       "\" style=\"border:thin solid black;text-align:center;font-size:x-small\"></td><td title=\"0.0\n",
       "\" style=\"border:thin solid black;text-align:center;font-size:x-small\"></td><td title=\"0.0\n",
       "\" style=\"border:thin solid black;text-align:center;font-size:x-small\"></td><td title=\"0.0\n",
       "\" style=\"border:thin solid black;text-align:center;font-size:x-small\"></td><td title=\"0.0\n",
       "\" style=\"border:thin solid black;text-align:center;font-size:x-small\"></td><td title=\"0.0\n",
       "\" style=\"border:thin solid black;text-align:center;font-size:x-small\"></td><td title=\"0.0\n",
       "\" style=\"border:thin solid black;text-align:center;font-size:x-small\"></td><td title=\"0.0\n",
       "\" style=\"border:thin solid black;text-align:center;font-size:x-small\"></td><td title=\"0.0\n",
       "\" style=\"border:thin solid black;text-align:center;font-size:x-small\"></td><td title=\"0.0\n",
       "\" style=\"border:thin solid black;text-align:center;font-size:x-small\"></td><td title=\"0.35\n",
       "a 0.35\" style=\"border:thin solid black;text-align:center;font-size:x-small\">0.35</td><td title=\"0.15\n",
       "b 0.15\" style=\"border:thin solid black;text-align:center;font-size:x-small\">0.15</td></tr><tr><td style=\"border:thin solid black;text-align:center;background-color:blue;color: white;\"><b>L1.F.O</b></td><td title=\"0.0\n",
       "\" style=\"border:thin solid black;text-align:center;font-size:x-small\"></td><td title=\"0.0\n",
       "\" style=\"border:thin solid black;text-align:center;font-size:x-small\"></td><td title=\"0.0\n",
       "\" style=\"border:thin solid black;text-align:center;font-size:x-small\"></td><td title=\"0.0\n",
       "\" style=\"border:thin solid black;text-align:center;font-size:x-small\"></td><td title=\"0.0\n",
       "\" style=\"border:thin solid black;text-align:center;font-size:x-small\"></td><td title=\"0.0\n",
       "\" style=\"border:thin solid black;text-align:center;font-size:x-small\"></td><td title=\"0.0\n",
       "\" style=\"border:thin solid black;text-align:center;font-size:x-small\"></td><td title=\"0.0\n",
       "\" style=\"border:thin solid black;text-align:center;font-size:x-small\"></td><td title=\"0.0\n",
       "\" style=\"border:thin solid black;text-align:center;font-size:x-small\"></td><td title=\"0.0\n",
       "\" style=\"border:thin solid black;text-align:center;font-size:x-small\"></td><td title=\"0.0\n",
       "\" style=\"border:thin solid black;text-align:center;font-size:x-small\"></td><td title=\"0.0\n",
       "\" style=\"border:thin solid black;text-align:center;font-size:x-small\"></td><td title=\"0.0\n",
       "\" style=\"border:thin solid black;text-align:center;font-size:x-small\"></td><td title=\"0.0\n",
       "\" style=\"border:thin solid black;text-align:center;font-size:x-small\"></td><td title=\"0.0\n",
       "\" style=\"border:thin solid black;text-align:center;font-size:x-small\"></td><td title=\"0.0\n",
       "\" style=\"border:thin solid black;text-align:center;font-size:x-small\"></td><td title=\"0.0\n",
       "\" style=\"border:thin solid black;text-align:center;font-size:x-small\"></td><td title=\"0.5\n",
       "a 0.35\n",
       "b 0.15\" style=\"border:thin solid black;text-align:center;font-size:x-small\">0.5</td></tr><tr><td style=\"border:thin solid black;text-align:center;background-color:blue;color: white;\"><b>L0.O.O</b></td><td title=\"0.0\n",
       "\" style=\"border:thin solid black;text-align:center;font-size:x-small\"></td><td title=\"0.0\n",
       "\" style=\"border:thin solid black;text-align:center;font-size:x-small\"></td><td title=\"0.0\n",
       "\" style=\"border:thin solid black;text-align:center;font-size:x-small\"></td><td title=\"0.0\n",
       "\" style=\"border:thin solid black;text-align:center;font-size:x-small\"></td><td title=\"0.0\n",
       "\" style=\"border:thin solid black;text-align:center;font-size:x-small\"></td><td title=\"0.0\n",
       "\" style=\"border:thin solid black;text-align:center;font-size:x-small\"></td><td title=\"0.0\n",
       "\" style=\"border:thin solid black;text-align:center;font-size:x-small\"></td><td title=\"0.0\n",
       "\" style=\"border:thin solid black;text-align:center;font-size:x-small\"></td><td title=\"0.0\n",
       "\" style=\"border:thin solid black;text-align:center;font-size:x-small\"></td><td title=\"0.0\n",
       "\" style=\"border:thin solid black;text-align:center;font-size:x-small\"></td><td title=\"0.0\n",
       "\" style=\"border:thin solid black;text-align:center;font-size:x-small\"></td><td title=\"0.0\n",
       "\" style=\"border:thin solid black;text-align:center;font-size:x-small\"></td><td title=\"0.0\n",
       "\" style=\"border:thin solid black;text-align:center;font-size:x-small\"></td><td title=\"0.0\n",
       "\" style=\"border:thin solid black;text-align:center;font-size:x-small\"></td><td title=\"0.0\n",
       "\" style=\"border:thin solid black;text-align:center;font-size:x-small\"></td><td title=\"0.0\n",
       "\" style=\"border:thin solid black;text-align:center;font-size:x-small\"></td><td title=\"0.0\n",
       "\" style=\"border:thin solid black;text-align:center;font-size:x-small\"></td><td title=\"0.0\n",
       "\" style=\"border:thin solid black;text-align:center;font-size:x-small\"></td></tr><tr><td style=\"border:thin solid black;text-align:center;background-color:blue;color: white;\"><b>L0.A.O</b></td><td title=\"0.0\n",
       "\" style=\"border:thin solid black;text-align:center;font-size:x-small\"></td><td title=\"0.0\n",
       "\" style=\"border:thin solid black;text-align:center;font-size:x-small\"></td><td title=\"0.0\n",
       "\" style=\"border:thin solid black;text-align:center;font-size:x-small\"></td><td title=\"0.0\n",
       "\" style=\"border:thin solid black;text-align:center;font-size:x-small\"></td><td title=\"0.0\n",
       "\" style=\"border:thin solid black;text-align:center;font-size:x-small\"></td><td title=\"0.0\n",
       "\" style=\"border:thin solid black;text-align:center;font-size:x-small\"></td><td title=\"0.0\n",
       "\" style=\"border:thin solid black;text-align:center;font-size:x-small\"></td><td title=\"0.0\n",
       "\" style=\"border:thin solid black;text-align:center;font-size:x-small\"></td><td title=\"0.0\n",
       "\" style=\"border:thin solid black;text-align:center;font-size:x-small\"></td><td title=\"0.0\n",
       "\" style=\"border:thin solid black;text-align:center;font-size:x-small\"></td><td title=\"0.0\n",
       "\" style=\"border:thin solid black;text-align:center;font-size:x-small\"></td><td title=\"0.0\n",
       "\" style=\"border:thin solid black;text-align:center;font-size:x-small\"></td><td title=\"0.0\n",
       "\" style=\"border:thin solid black;text-align:center;font-size:x-small\"></td><td title=\"0.0\n",
       "\" style=\"border:thin solid black;text-align:center;font-size:x-small\"></td><td title=\"0.0\n",
       "\" style=\"border:thin solid black;text-align:center;font-size:x-small\"></td><td title=\"0.0\n",
       "\" style=\"border:thin solid black;text-align:center;font-size:x-small\"></td><td title=\"0.0\n",
       "\" style=\"border:thin solid black;text-align:center;font-size:x-small\"></td><td title=\"0.0\n",
       "\" style=\"border:thin solid black;text-align:center;font-size:x-small\"></td></tr><tr><td style=\"border:thin solid black;text-align:center;background-color:blue;color: white;\"><b>L0.F.O</b></td><td title=\"0.0\n",
       "\" style=\"border:thin solid black;text-align:center;font-size:x-small\"></td><td title=\"0.0\n",
       "\" style=\"border:thin solid black;text-align:center;font-size:x-small\"></td><td title=\"0.0\n",
       "\" style=\"border:thin solid black;text-align:center;font-size:x-small\"></td><td title=\"0.0\n",
       "\" style=\"border:thin solid black;text-align:center;font-size:x-small\"></td><td title=\"0.0\n",
       "\" style=\"border:thin solid black;text-align:center;font-size:x-small\"></td><td title=\"0.0\n",
       "\" style=\"border:thin solid black;text-align:center;font-size:x-small\"></td><td title=\"0.0\n",
       "\" style=\"border:thin solid black;text-align:center;font-size:x-small\"></td><td title=\"0.0\n",
       "\" style=\"border:thin solid black;text-align:center;font-size:x-small\"></td><td title=\"0.0\n",
       "\" style=\"border:thin solid black;text-align:center;font-size:x-small\"></td><td title=\"0.0\n",
       "\" style=\"border:thin solid black;text-align:center;font-size:x-small\"></td><td title=\"0.0\n",
       "\" style=\"border:thin solid black;text-align:center;font-size:x-small\"></td><td title=\"0.0\n",
       "\" style=\"border:thin solid black;text-align:center;font-size:x-small\"></td><td title=\"0.0\n",
       "\" style=\"border:thin solid black;text-align:center;font-size:x-small\"></td><td title=\"0.0\n",
       "\" style=\"border:thin solid black;text-align:center;font-size:x-small\"></td><td title=\"0.0\n",
       "\" style=\"border:thin solid black;text-align:center;font-size:x-small\"></td><td title=\"0.0\n",
       "\" style=\"border:thin solid black;text-align:center;font-size:x-small\"></td><td title=\"0.0\n",
       "\" style=\"border:thin solid black;text-align:center;font-size:x-small\"></td><td title=\"1.0\n",
       ". 1.0\" style=\"border:thin solid black;text-align:center;font-size:x-small\">1.0</td></tr></table>"
      ]
     },
     "metadata": {},
     "output_type": "display_data"
    }
   ],
   "source": [
    "X = X_len@X_mot@X_cnt\n",
    "display_html(X)"
   ]
  },
  {
   "cell_type": "code",
   "execution_count": 14,
   "metadata": {},
   "outputs": [
    {
     "name": "stderr",
     "output_type": "stream",
     "text": [
      "INFO:wfsa.probabilistic:Inferred stop symbol and final state: . L0.F.O\n",
      "INFO:wfsa.probabilistic:Pruning unreachable states: 3/18\n",
      "INFO:wfsa.probabilistic:Normaliser min: 0.022115625 max: 1.0\n"
     ]
    },
    {
     "data": {
      "text/html": [
       "<table><tr><td title=\"15 states, 3 symbols, 27 transitions\n",
       "mtype: &lt;class 'wfsa.util.csra_matrix'&gt;\" style=\"border:thin solid black;text-align:center;background-color:white;color:blue;\">🛈</td><td style=\"border:thin solid black;text-align:center;background-color:blue;color: white;writing-mode:vertical-lr;min-width:.5cm;\"><b>L5.O.O</b></td><td style=\"border:thin solid black;text-align:center;background-color:blue;color: white;writing-mode:vertical-lr;min-width:.5cm;\"><b>L5.A.O</b></td><td style=\"border:thin solid black;text-align:center;background-color:blue;color: white;writing-mode:vertical-lr;min-width:.5cm;\"><b>L5.F.O</b></td><td style=\"border:thin solid black;text-align:center;background-color:blue;color: white;writing-mode:vertical-lr;min-width:.5cm;\"><b>L4.O.O</b></td><td style=\"border:thin solid black;text-align:center;background-color:blue;color: white;writing-mode:vertical-lr;min-width:.5cm;\"><b>L4.A.O</b></td><td style=\"border:thin solid black;text-align:center;background-color:blue;color: white;writing-mode:vertical-lr;min-width:.5cm;\"><b>L4.F.O</b></td><td style=\"border:thin solid black;text-align:center;background-color:blue;color: white;writing-mode:vertical-lr;min-width:.5cm;\"><b>L3.O.O</b></td><td style=\"border:thin solid black;text-align:center;background-color:blue;color: white;writing-mode:vertical-lr;min-width:.5cm;\"><b>L3.A.O</b></td><td style=\"border:thin solid black;text-align:center;background-color:blue;color: white;writing-mode:vertical-lr;min-width:.5cm;\"><b>L3.F.O</b></td><td style=\"border:thin solid black;text-align:center;background-color:blue;color: white;writing-mode:vertical-lr;min-width:.5cm;\"><b>L2.O.O</b></td><td style=\"border:thin solid black;text-align:center;background-color:blue;color: white;writing-mode:vertical-lr;min-width:.5cm;\"><b>L2.A.O</b></td><td style=\"border:thin solid black;text-align:center;background-color:blue;color: white;writing-mode:vertical-lr;min-width:.5cm;\"><b>L2.F.O</b></td><td style=\"border:thin solid black;text-align:center;background-color:blue;color: white;writing-mode:vertical-lr;min-width:.5cm;\"><b>L1.A.O</b></td><td style=\"border:thin solid black;text-align:center;background-color:blue;color: white;writing-mode:vertical-lr;min-width:.5cm;\"><b>L1.F.O</b></td><td style=\"border:thin solid black;text-align:center;background-color:blue;color: white;background-color: darkblue;writing-mode:vertical-lr;min-width:.5cm;\"><b>L0.F.O</b></td></tr><tr><td style=\"border:thin solid black;text-align:center;background-color:blue;color: white;\"><b>L5.O.O</b></td><td title=\"0.0\n",
       "\" style=\"border:thin solid black;text-align:center;font-size:x-small\"></td><td title=\"0.0\n",
       "\" style=\"border:thin solid black;text-align:center;font-size:x-small\"></td><td title=\"0.0\n",
       "\" style=\"border:thin solid black;text-align:center;font-size:x-small\"></td><td title=\"0.24837\n",
       "b 0.24837\" style=\"border:thin solid black;text-align:center;font-size:x-small\">0.25</td><td title=\"0.75163\n",
       "a 0.75163\" style=\"border:thin solid black;text-align:center;font-size:x-small\">0.75</td><td title=\"0.0\n",
       "\" style=\"border:thin solid black;text-align:center;font-size:x-small\"></td><td title=\"0.0\n",
       "\" style=\"border:thin solid black;text-align:center;font-size:x-small\"></td><td title=\"0.0\n",
       "\" style=\"border:thin solid black;text-align:center;font-size:x-small\"></td><td title=\"0.0\n",
       "\" style=\"border:thin solid black;text-align:center;font-size:x-small\"></td><td title=\"0.0\n",
       "\" style=\"border:thin solid black;text-align:center;font-size:x-small\"></td><td title=\"0.0\n",
       "\" style=\"border:thin solid black;text-align:center;font-size:x-small\"></td><td title=\"0.0\n",
       "\" style=\"border:thin solid black;text-align:center;font-size:x-small\"></td><td title=\"0.0\n",
       "\" style=\"border:thin solid black;text-align:center;font-size:x-small\"></td><td title=\"0.0\n",
       "\" style=\"border:thin solid black;text-align:center;font-size:x-small\"></td><td title=\"0.0\n",
       "\" style=\"border:thin solid black;text-align:center;font-size:x-small\"></td></tr><tr><td style=\"border:thin solid black;text-align:center;background-color:blue;color: white;\"><b>L5.A.O</b></td><td title=\"0.0\n",
       "\" style=\"border:thin solid black;text-align:center;font-size:x-small\"></td><td title=\"0.0\n",
       "\" style=\"border:thin solid black;text-align:center;font-size:x-small\"></td><td title=\"0.0\n",
       "\" style=\"border:thin solid black;text-align:center;font-size:x-small\"></td><td title=\"0.0\n",
       "\" style=\"border:thin solid black;text-align:center;font-size:x-small\"></td><td title=\"0.63939\n",
       "a 0.63939\" style=\"border:thin solid black;text-align:center;font-size:x-small\">0.64</td><td title=\"0.36061\n",
       "b 0.36061\" style=\"border:thin solid black;text-align:center;font-size:x-small\">0.36</td><td title=\"0.0\n",
       "\" style=\"border:thin solid black;text-align:center;font-size:x-small\"></td><td title=\"0.0\n",
       "\" style=\"border:thin solid black;text-align:center;font-size:x-small\"></td><td title=\"0.0\n",
       "\" style=\"border:thin solid black;text-align:center;font-size:x-small\"></td><td title=\"0.0\n",
       "\" style=\"border:thin solid black;text-align:center;font-size:x-small\"></td><td title=\"0.0\n",
       "\" style=\"border:thin solid black;text-align:center;font-size:x-small\"></td><td title=\"0.0\n",
       "\" style=\"border:thin solid black;text-align:center;font-size:x-small\"></td><td title=\"0.0\n",
       "\" style=\"border:thin solid black;text-align:center;font-size:x-small\"></td><td title=\"0.0\n",
       "\" style=\"border:thin solid black;text-align:center;font-size:x-small\"></td><td title=\"0.0\n",
       "\" style=\"border:thin solid black;text-align:center;font-size:x-small\"></td></tr><tr><td style=\"border:thin solid black;text-align:center;background-color:blue;color: white;\"><b>L5.F.O</b></td><td title=\"0.0\n",
       "\" style=\"border:thin solid black;text-align:center;font-size:x-small\"></td><td title=\"0.0\n",
       "\" style=\"border:thin solid black;text-align:center;font-size:x-small\"></td><td title=\"0.0\n",
       "\" style=\"border:thin solid black;text-align:center;font-size:x-small\"></td><td title=\"0.0\n",
       "\" style=\"border:thin solid black;text-align:center;font-size:x-small\"></td><td title=\"0.0\n",
       "\" style=\"border:thin solid black;text-align:center;font-size:x-small\"></td><td title=\"1.0\n",
       "a 0.7\n",
       "b 0.3\" style=\"border:thin solid black;text-align:center;font-size:x-small\">1.0</td><td title=\"0.0\n",
       "\" style=\"border:thin solid black;text-align:center;font-size:x-small\"></td><td title=\"0.0\n",
       "\" style=\"border:thin solid black;text-align:center;font-size:x-small\"></td><td title=\"0.0\n",
       "\" style=\"border:thin solid black;text-align:center;font-size:x-small\"></td><td title=\"0.0\n",
       "\" style=\"border:thin solid black;text-align:center;font-size:x-small\"></td><td title=\"0.0\n",
       "\" style=\"border:thin solid black;text-align:center;font-size:x-small\"></td><td title=\"0.0\n",
       "\" style=\"border:thin solid black;text-align:center;font-size:x-small\"></td><td title=\"0.0\n",
       "\" style=\"border:thin solid black;text-align:center;font-size:x-small\"></td><td title=\"0.0\n",
       "\" style=\"border:thin solid black;text-align:center;font-size:x-small\"></td><td title=\"0.0\n",
       "\" style=\"border:thin solid black;text-align:center;font-size:x-small\"></td></tr><tr><td style=\"border:thin solid black;text-align:center;background-color:blue;color: white;\"><b>L4.O.O</b></td><td title=\"0.0\n",
       "\" style=\"border:thin solid black;text-align:center;font-size:x-small\"></td><td title=\"0.0\n",
       "\" style=\"border:thin solid black;text-align:center;font-size:x-small\"></td><td title=\"0.0\n",
       "\" style=\"border:thin solid black;text-align:center;font-size:x-small\"></td><td title=\"0.0\n",
       "\" style=\"border:thin solid black;text-align:center;font-size:x-small\"></td><td title=\"0.0\n",
       "\" style=\"border:thin solid black;text-align:center;font-size:x-small\"></td><td title=\"0.0\n",
       "\" style=\"border:thin solid black;text-align:center;font-size:x-small\"></td><td title=\"0.21505\n",
       "b 0.21505\" style=\"border:thin solid black;text-align:center;font-size:x-small\">0.22</td><td title=\"0.78495\n",
       "a 0.78495\" style=\"border:thin solid black;text-align:center;font-size:x-small\">0.78</td><td title=\"0.0\n",
       "\" style=\"border:thin solid black;text-align:center;font-size:x-small\"></td><td title=\"0.0\n",
       "\" style=\"border:thin solid black;text-align:center;font-size:x-small\"></td><td title=\"0.0\n",
       "\" style=\"border:thin solid black;text-align:center;font-size:x-small\"></td><td title=\"0.0\n",
       "\" style=\"border:thin solid black;text-align:center;font-size:x-small\"></td><td title=\"0.0\n",
       "\" style=\"border:thin solid black;text-align:center;font-size:x-small\"></td><td title=\"0.0\n",
       "\" style=\"border:thin solid black;text-align:center;font-size:x-small\"></td><td title=\"0.0\n",
       "\" style=\"border:thin solid black;text-align:center;font-size:x-small\"></td></tr><tr><td style=\"border:thin solid black;text-align:center;background-color:blue;color: white;\"><b>L4.A.O</b></td><td title=\"0.0\n",
       "\" style=\"border:thin solid black;text-align:center;font-size:x-small\"></td><td title=\"0.0\n",
       "\" style=\"border:thin solid black;text-align:center;font-size:x-small\"></td><td title=\"0.0\n",
       "\" style=\"border:thin solid black;text-align:center;font-size:x-small\"></td><td title=\"0.0\n",
       "\" style=\"border:thin solid black;text-align:center;font-size:x-small\"></td><td title=\"0.0\n",
       "\" style=\"border:thin solid black;text-align:center;font-size:x-small\"></td><td title=\"0.0\n",
       "\" style=\"border:thin solid black;text-align:center;font-size:x-small\"></td><td title=\"0.0\n",
       "\" style=\"border:thin solid black;text-align:center;font-size:x-small\"></td><td title=\"0.60521\n",
       "a 0.60521\" style=\"border:thin solid black;text-align:center;font-size:x-small\">0.61</td><td title=\"0.39479\n",
       "b 0.39479\" style=\"border:thin solid black;text-align:center;font-size:x-small\">0.39</td><td title=\"0.0\n",
       "\" style=\"border:thin solid black;text-align:center;font-size:x-small\"></td><td title=\"0.0\n",
       "\" style=\"border:thin solid black;text-align:center;font-size:x-small\"></td><td title=\"0.0\n",
       "\" style=\"border:thin solid black;text-align:center;font-size:x-small\"></td><td title=\"0.0\n",
       "\" style=\"border:thin solid black;text-align:center;font-size:x-small\"></td><td title=\"0.0\n",
       "\" style=\"border:thin solid black;text-align:center;font-size:x-small\"></td><td title=\"0.0\n",
       "\" style=\"border:thin solid black;text-align:center;font-size:x-small\"></td></tr><tr><td style=\"border:thin solid black;text-align:center;background-color:blue;color: white;\"><b>L4.F.O</b></td><td title=\"0.0\n",
       "\" style=\"border:thin solid black;text-align:center;font-size:x-small\"></td><td title=\"0.0\n",
       "\" style=\"border:thin solid black;text-align:center;font-size:x-small\"></td><td title=\"0.0\n",
       "\" style=\"border:thin solid black;text-align:center;font-size:x-small\"></td><td title=\"0.0\n",
       "\" style=\"border:thin solid black;text-align:center;font-size:x-small\"></td><td title=\"0.0\n",
       "\" style=\"border:thin solid black;text-align:center;font-size:x-small\"></td><td title=\"0.0\n",
       "\" style=\"border:thin solid black;text-align:center;font-size:x-small\"></td><td title=\"0.0\n",
       "\" style=\"border:thin solid black;text-align:center;font-size:x-small\"></td><td title=\"0.0\n",
       "\" style=\"border:thin solid black;text-align:center;font-size:x-small\"></td><td title=\"1.0\n",
       "a 0.7\n",
       "b 0.3\" style=\"border:thin solid black;text-align:center;font-size:x-small\">1.0</td><td title=\"0.0\n",
       "\" style=\"border:thin solid black;text-align:center;font-size:x-small\"></td><td title=\"0.0\n",
       "\" style=\"border:thin solid black;text-align:center;font-size:x-small\"></td><td title=\"0.0\n",
       "\" style=\"border:thin solid black;text-align:center;font-size:x-small\"></td><td title=\"0.0\n",
       "\" style=\"border:thin solid black;text-align:center;font-size:x-small\"></td><td title=\"0.0\n",
       "\" style=\"border:thin solid black;text-align:center;font-size:x-small\"></td><td title=\"0.0\n",
       "\" style=\"border:thin solid black;text-align:center;font-size:x-small\"></td></tr><tr><td style=\"border:thin solid black;text-align:center;background-color:blue;color: white;\"><b>L3.O.O</b></td><td title=\"0.0\n",
       "\" style=\"border:thin solid black;text-align:center;font-size:x-small\"></td><td title=\"0.0\n",
       "\" style=\"border:thin solid black;text-align:center;font-size:x-small\"></td><td title=\"0.0\n",
       "\" style=\"border:thin solid black;text-align:center;font-size:x-small\"></td><td title=\"0.0\n",
       "\" style=\"border:thin solid black;text-align:center;font-size:x-small\"></td><td title=\"0.0\n",
       "\" style=\"border:thin solid black;text-align:center;font-size:x-small\"></td><td title=\"0.0\n",
       "\" style=\"border:thin solid black;text-align:center;font-size:x-small\"></td><td title=\"0.0\n",
       "\" style=\"border:thin solid black;text-align:center;font-size:x-small\"></td><td title=\"0.0\n",
       "\" style=\"border:thin solid black;text-align:center;font-size:x-small\"></td><td title=\"0.0\n",
       "\" style=\"border:thin solid black;text-align:center;font-size:x-small\"></td><td title=\"0.15\n",
       "b 0.15\" style=\"border:thin solid black;text-align:center;font-size:x-small\">0.15</td><td title=\"0.85\n",
       "a 0.85\" style=\"border:thin solid black;text-align:center;font-size:x-small\">0.85</td><td title=\"0.0\n",
       "\" style=\"border:thin solid black;text-align:center;font-size:x-small\"></td><td title=\"0.0\n",
       "\" style=\"border:thin solid black;text-align:center;font-size:x-small\"></td><td title=\"0.0\n",
       "\" style=\"border:thin solid black;text-align:center;font-size:x-small\"></td><td title=\"0.0\n",
       "\" style=\"border:thin solid black;text-align:center;font-size:x-small\"></td></tr><tr><td style=\"border:thin solid black;text-align:center;background-color:blue;color: white;\"><b>L3.A.O</b></td><td title=\"0.0\n",
       "\" style=\"border:thin solid black;text-align:center;font-size:x-small\"></td><td title=\"0.0\n",
       "\" style=\"border:thin solid black;text-align:center;font-size:x-small\"></td><td title=\"0.0\n",
       "\" style=\"border:thin solid black;text-align:center;font-size:x-small\"></td><td title=\"0.0\n",
       "\" style=\"border:thin solid black;text-align:center;font-size:x-small\"></td><td title=\"0.0\n",
       "\" style=\"border:thin solid black;text-align:center;font-size:x-small\"></td><td title=\"0.0\n",
       "\" style=\"border:thin solid black;text-align:center;font-size:x-small\"></td><td title=\"0.0\n",
       "\" style=\"border:thin solid black;text-align:center;font-size:x-small\"></td><td title=\"0.0\n",
       "\" style=\"border:thin solid black;text-align:center;font-size:x-small\"></td><td title=\"0.0\n",
       "\" style=\"border:thin solid black;text-align:center;font-size:x-small\"></td><td title=\"0.0\n",
       "\" style=\"border:thin solid black;text-align:center;font-size:x-small\"></td><td title=\"0.54338\n",
       "a 0.54338\" style=\"border:thin solid black;text-align:center;font-size:x-small\">0.54</td><td title=\"0.45662\n",
       "b 0.45662\" style=\"border:thin solid black;text-align:center;font-size:x-small\">0.46</td><td title=\"0.0\n",
       "\" style=\"border:thin solid black;text-align:center;font-size:x-small\"></td><td title=\"0.0\n",
       "\" style=\"border:thin solid black;text-align:center;font-size:x-small\"></td><td title=\"0.0\n",
       "\" style=\"border:thin solid black;text-align:center;font-size:x-small\"></td></tr><tr><td style=\"border:thin solid black;text-align:center;background-color:blue;color: white;\"><b>L3.F.O</b></td><td title=\"0.0\n",
       "\" style=\"border:thin solid black;text-align:center;font-size:x-small\"></td><td title=\"0.0\n",
       "\" style=\"border:thin solid black;text-align:center;font-size:x-small\"></td><td title=\"0.0\n",
       "\" style=\"border:thin solid black;text-align:center;font-size:x-small\"></td><td title=\"0.0\n",
       "\" style=\"border:thin solid black;text-align:center;font-size:x-small\"></td><td title=\"0.0\n",
       "\" style=\"border:thin solid black;text-align:center;font-size:x-small\"></td><td title=\"0.0\n",
       "\" style=\"border:thin solid black;text-align:center;font-size:x-small\"></td><td title=\"0.0\n",
       "\" style=\"border:thin solid black;text-align:center;font-size:x-small\"></td><td title=\"0.0\n",
       "\" style=\"border:thin solid black;text-align:center;font-size:x-small\"></td><td title=\"0.0\n",
       "\" style=\"border:thin solid black;text-align:center;font-size:x-small\"></td><td title=\"0.0\n",
       "\" style=\"border:thin solid black;text-align:center;font-size:x-small\"></td><td title=\"0.0\n",
       "\" style=\"border:thin solid black;text-align:center;font-size:x-small\"></td><td title=\"1.0\n",
       "a 0.7\n",
       "b 0.3\" style=\"border:thin solid black;text-align:center;font-size:x-small\">1.0</td><td title=\"0.0\n",
       "\" style=\"border:thin solid black;text-align:center;font-size:x-small\"></td><td title=\"0.0\n",
       "\" style=\"border:thin solid black;text-align:center;font-size:x-small\"></td><td title=\"0.0\n",
       "\" style=\"border:thin solid black;text-align:center;font-size:x-small\"></td></tr><tr><td style=\"border:thin solid black;text-align:center;background-color:blue;color: white;\"><b>L2.O.O</b></td><td title=\"0.0\n",
       "\" style=\"border:thin solid black;text-align:center;font-size:x-small\"></td><td title=\"0.0\n",
       "\" style=\"border:thin solid black;text-align:center;font-size:x-small\"></td><td title=\"0.0\n",
       "\" style=\"border:thin solid black;text-align:center;font-size:x-small\"></td><td title=\"0.0\n",
       "\" style=\"border:thin solid black;text-align:center;font-size:x-small\"></td><td title=\"0.0\n",
       "\" style=\"border:thin solid black;text-align:center;font-size:x-small\"></td><td title=\"0.0\n",
       "\" style=\"border:thin solid black;text-align:center;font-size:x-small\"></td><td title=\"0.0\n",
       "\" style=\"border:thin solid black;text-align:center;font-size:x-small\"></td><td title=\"0.0\n",
       "\" style=\"border:thin solid black;text-align:center;font-size:x-small\"></td><td title=\"0.0\n",
       "\" style=\"border:thin solid black;text-align:center;font-size:x-small\"></td><td title=\"0.0\n",
       "\" style=\"border:thin solid black;text-align:center;font-size:x-small\"></td><td title=\"0.0\n",
       "\" style=\"border:thin solid black;text-align:center;font-size:x-small\"></td><td title=\"0.0\n",
       "\" style=\"border:thin solid black;text-align:center;font-size:x-small\"></td><td title=\"1.0\n",
       "a 1.0\" style=\"border:thin solid black;text-align:center;font-size:x-small\">1.0</td><td title=\"0.0\n",
       "\" style=\"border:thin solid black;text-align:center;font-size:x-small\"></td><td title=\"0.0\n",
       "\" style=\"border:thin solid black;text-align:center;font-size:x-small\"></td></tr><tr><td style=\"border:thin solid black;text-align:center;background-color:blue;color: white;\"><b>L2.A.O</b></td><td title=\"0.0\n",
       "\" style=\"border:thin solid black;text-align:center;font-size:x-small\"></td><td title=\"0.0\n",
       "\" style=\"border:thin solid black;text-align:center;font-size:x-small\"></td><td title=\"0.0\n",
       "\" style=\"border:thin solid black;text-align:center;font-size:x-small\"></td><td title=\"0.0\n",
       "\" style=\"border:thin solid black;text-align:center;font-size:x-small\"></td><td title=\"0.0\n",
       "\" style=\"border:thin solid black;text-align:center;font-size:x-small\"></td><td title=\"0.0\n",
       "\" style=\"border:thin solid black;text-align:center;font-size:x-small\"></td><td title=\"0.0\n",
       "\" style=\"border:thin solid black;text-align:center;font-size:x-small\"></td><td title=\"0.0\n",
       "\" style=\"border:thin solid black;text-align:center;font-size:x-small\"></td><td title=\"0.0\n",
       "\" style=\"border:thin solid black;text-align:center;font-size:x-small\"></td><td title=\"0.0\n",
       "\" style=\"border:thin solid black;text-align:center;font-size:x-small\"></td><td title=\"0.0\n",
       "\" style=\"border:thin solid black;text-align:center;font-size:x-small\"></td><td title=\"0.0\n",
       "\" style=\"border:thin solid black;text-align:center;font-size:x-small\"></td><td title=\"0.41176\n",
       "a 0.41176\" style=\"border:thin solid black;text-align:center;font-size:x-small\">0.41</td><td title=\"0.58824\n",
       "b 0.58824\" style=\"border:thin solid black;text-align:center;font-size:x-small\">0.59</td><td title=\"0.0\n",
       "\" style=\"border:thin solid black;text-align:center;font-size:x-small\"></td></tr><tr><td style=\"border:thin solid black;text-align:center;background-color:blue;color: white;\"><b>L2.F.O</b></td><td title=\"0.0\n",
       "\" style=\"border:thin solid black;text-align:center;font-size:x-small\"></td><td title=\"0.0\n",
       "\" style=\"border:thin solid black;text-align:center;font-size:x-small\"></td><td title=\"0.0\n",
       "\" style=\"border:thin solid black;text-align:center;font-size:x-small\"></td><td title=\"0.0\n",
       "\" style=\"border:thin solid black;text-align:center;font-size:x-small\"></td><td title=\"0.0\n",
       "\" style=\"border:thin solid black;text-align:center;font-size:x-small\"></td><td title=\"0.0\n",
       "\" style=\"border:thin solid black;text-align:center;font-size:x-small\"></td><td title=\"0.0\n",
       "\" style=\"border:thin solid black;text-align:center;font-size:x-small\"></td><td title=\"0.0\n",
       "\" style=\"border:thin solid black;text-align:center;font-size:x-small\"></td><td title=\"0.0\n",
       "\" style=\"border:thin solid black;text-align:center;font-size:x-small\"></td><td title=\"0.0\n",
       "\" style=\"border:thin solid black;text-align:center;font-size:x-small\"></td><td title=\"0.0\n",
       "\" style=\"border:thin solid black;text-align:center;font-size:x-small\"></td><td title=\"0.0\n",
       "\" style=\"border:thin solid black;text-align:center;font-size:x-small\"></td><td title=\"0.0\n",
       "\" style=\"border:thin solid black;text-align:center;font-size:x-small\"></td><td title=\"1.0\n",
       "a 0.7\n",
       "b 0.3\" style=\"border:thin solid black;text-align:center;font-size:x-small\">1.0</td><td title=\"0.0\n",
       "\" style=\"border:thin solid black;text-align:center;font-size:x-small\"></td></tr><tr><td style=\"border:thin solid black;text-align:center;background-color:blue;color: white;\"><b>L1.A.O</b></td><td title=\"0.0\n",
       "\" style=\"border:thin solid black;text-align:center;font-size:x-small\"></td><td title=\"0.0\n",
       "\" style=\"border:thin solid black;text-align:center;font-size:x-small\"></td><td title=\"0.0\n",
       "\" style=\"border:thin solid black;text-align:center;font-size:x-small\"></td><td title=\"0.0\n",
       "\" style=\"border:thin solid black;text-align:center;font-size:x-small\"></td><td title=\"0.0\n",
       "\" style=\"border:thin solid black;text-align:center;font-size:x-small\"></td><td title=\"0.0\n",
       "\" style=\"border:thin solid black;text-align:center;font-size:x-small\"></td><td title=\"0.0\n",
       "\" style=\"border:thin solid black;text-align:center;font-size:x-small\"></td><td title=\"0.0\n",
       "\" style=\"border:thin solid black;text-align:center;font-size:x-small\"></td><td title=\"0.0\n",
       "\" style=\"border:thin solid black;text-align:center;font-size:x-small\"></td><td title=\"0.0\n",
       "\" style=\"border:thin solid black;text-align:center;font-size:x-small\"></td><td title=\"0.0\n",
       "\" style=\"border:thin solid black;text-align:center;font-size:x-small\"></td><td title=\"0.0\n",
       "\" style=\"border:thin solid black;text-align:center;font-size:x-small\"></td><td title=\"0.0\n",
       "\" style=\"border:thin solid black;text-align:center;font-size:x-small\"></td><td title=\"0.0\n",
       "\" style=\"border:thin solid black;text-align:center;font-size:x-small\"></td><td title=\"1.0\n",
       "b 1.0\" style=\"border:thin solid black;text-align:center;font-size:x-small\">1.0</td></tr><tr><td style=\"border:thin solid black;text-align:center;background-color:blue;color: white;\"><b>L1.F.O</b></td><td title=\"0.0\n",
       "\" style=\"border:thin solid black;text-align:center;font-size:x-small\"></td><td title=\"0.0\n",
       "\" style=\"border:thin solid black;text-align:center;font-size:x-small\"></td><td title=\"0.0\n",
       "\" style=\"border:thin solid black;text-align:center;font-size:x-small\"></td><td title=\"0.0\n",
       "\" style=\"border:thin solid black;text-align:center;font-size:x-small\"></td><td title=\"0.0\n",
       "\" style=\"border:thin solid black;text-align:center;font-size:x-small\"></td><td title=\"0.0\n",
       "\" style=\"border:thin solid black;text-align:center;font-size:x-small\"></td><td title=\"0.0\n",
       "\" style=\"border:thin solid black;text-align:center;font-size:x-small\"></td><td title=\"0.0\n",
       "\" style=\"border:thin solid black;text-align:center;font-size:x-small\"></td><td title=\"0.0\n",
       "\" style=\"border:thin solid black;text-align:center;font-size:x-small\"></td><td title=\"0.0\n",
       "\" style=\"border:thin solid black;text-align:center;font-size:x-small\"></td><td title=\"0.0\n",
       "\" style=\"border:thin solid black;text-align:center;font-size:x-small\"></td><td title=\"0.0\n",
       "\" style=\"border:thin solid black;text-align:center;font-size:x-small\"></td><td title=\"0.0\n",
       "\" style=\"border:thin solid black;text-align:center;font-size:x-small\"></td><td title=\"0.0\n",
       "\" style=\"border:thin solid black;text-align:center;font-size:x-small\"></td><td title=\"1.0\n",
       "a 0.7\n",
       "b 0.3\" style=\"border:thin solid black;text-align:center;font-size:x-small\">1.0</td></tr><tr><td style=\"border:thin solid black;text-align:center;background-color:blue;color: white;background-color: darkblue;\"><b>L0.F.O</b></td><td title=\"0.0\n",
       "\" style=\"border:thin solid black;text-align:center;font-size:x-small\"></td><td title=\"0.0\n",
       "\" style=\"border:thin solid black;text-align:center;font-size:x-small\"></td><td title=\"0.0\n",
       "\" style=\"border:thin solid black;text-align:center;font-size:x-small\"></td><td title=\"0.0\n",
       "\" style=\"border:thin solid black;text-align:center;font-size:x-small\"></td><td title=\"0.0\n",
       "\" style=\"border:thin solid black;text-align:center;font-size:x-small\"></td><td title=\"0.0\n",
       "\" style=\"border:thin solid black;text-align:center;font-size:x-small\"></td><td title=\"0.0\n",
       "\" style=\"border:thin solid black;text-align:center;font-size:x-small\"></td><td title=\"0.0\n",
       "\" style=\"border:thin solid black;text-align:center;font-size:x-small\"></td><td title=\"0.0\n",
       "\" style=\"border:thin solid black;text-align:center;font-size:x-small\"></td><td title=\"0.0\n",
       "\" style=\"border:thin solid black;text-align:center;font-size:x-small\"></td><td title=\"0.0\n",
       "\" style=\"border:thin solid black;text-align:center;font-size:x-small\"></td><td title=\"0.0\n",
       "\" style=\"border:thin solid black;text-align:center;font-size:x-small\"></td><td title=\"0.0\n",
       "\" style=\"border:thin solid black;text-align:center;font-size:x-small\"></td><td title=\"0.0\n",
       "\" style=\"border:thin solid black;text-align:center;font-size:x-small\"></td><td title=\"1.0\n",
       ". 1.0\" style=\"border:thin solid black;text-align:center;font-size:x-small\">1.0</td></tr></table>"
      ]
     },
     "metadata": {},
     "output_type": "display_data"
    }
   ],
   "source": [
    "X = X.toPFSA()\n",
    "display_html(X)"
   ]
  },
  {
   "cell_type": "code",
   "execution_count": 15,
   "metadata": {},
   "outputs": [],
   "source": [
    "def allstr(X,L):\n",
    "  R = [c for c in range(len(X.W)) if c!=X.stop]\n",
    "  m = X.n-1\n",
    "  sample = empty((L+1,Q),dtype=int)\n",
    "  sample[L] = X.stop\n",
    "  for k in range(L): sample[k] = tile(repeat(R,m**(L-1-k)),m**k)\n",
    "  return sample\n",
    "Q = (X.n-1)**L\n",
    "sample = Sample(Q)\n",
    "sample.append(allstr(X,L))\n",
    "X.asample = sample.close()"
   ]
  },
  {
   "cell_type": "code",
   "execution_count": 16,
   "metadata": {},
   "outputs": [
    {
     "name": "stdout",
     "output_type": "stream",
     "text": [
      "aaaaa. 0.0\n",
      "aaaab. 0.10178041543026706\n",
      "aaaba. 0.10178041543026702\n",
      "aaabb. 0.043620178041543015\n",
      "aabaa. 0.10178041543026706\n",
      "aabab. 0.043620178041543015\n",
      "aabba. 0.043620178041543015\n",
      "aabbb. 0.01869436201780415\n",
      "abaaa. 0.10178041543026702\n",
      "abaab. 0.043620178041543015\n",
      "ababa. 0.043620178041543015\n",
      "ababb. 0.01869436201780415\n",
      "abbaa. 0.043620178041543015\n",
      "abbab. 0.01869436201780415\n",
      "abbba. 0.01869436201780415\n",
      "abbbb. 0.008011869436201781\n",
      "baaaa. 0.0\n",
      "baaab. 0.043620178041543015\n",
      "baaba. 0.043620178041542994\n",
      "baabb. 0.018694362017804136\n",
      "babaa. 0.043620178041543015\n",
      "babab. 0.01869436201780415\n",
      "babba. 0.01869436201780415\n",
      "babbb. 0.008011869436201781\n",
      "bbaaa. 0.0\n",
      "bbaab. 0.01869436201780416\n",
      "bbaba. 0.01869436201780415\n",
      "bbabb. 0.008011869436201781\n",
      "bbbaa. 0.0\n",
      "bbbab. 0.008011869436201781\n",
      "bbbba. 0.0\n",
      "bbbbb. 0.0\n",
      "Total probability: 0.9999999999999997\n",
      "Entropy: 2.9841468787729934\n"
     ]
    }
   ],
   "source": [
    "P = exp(X.logproba(sample,start='L{}.O.O'.format(L)))\n",
    "for x,p in zip(sample.values(),P): print(''.join(X.symb_names[c] for c in x),p)\n",
    "print('Total probability:',sum(P))\n",
    "print('Entropy:',X.entropy(start='L{}.O.O'.format(L)))"
   ]
  },
  {
   "cell_type": "code",
   "execution_count": 17,
   "metadata": {},
   "outputs": [
    {
     "data": {
      "text/plain": [
       "<networkx.classes.digraph.DiGraph at 0x7f8c639f2ac0>"
      ]
     },
     "execution_count": 17,
     "metadata": {},
     "output_type": "execute_result"
    },
    {
     "data": {
      "image/png": "[encoded data removed]",
      "text/plain": [
       "<Figure size 1440x720 with 1 Axes>"
      ]
     },
     "metadata": {},
     "output_type": "display_data"
    }
   ],
   "source": [
    "X.draw(figsize=(20,10),tune=dict(k=6.,K=18.))"
   ]
  },
  {
   "cell_type": "markdown",
   "metadata": {},
   "source": [
    "## Entropy not computable"
   ]
  },
  {
   "cell_type": "code",
   "execution_count": 18,
   "metadata": {},
   "outputs": [
    {
     "name": "stderr",
     "output_type": "stream",
     "text": [
      "INFO:wfsa.probabilistic:Inferred stop symbol and final state: . F\n"
     ]
    }
   ],
   "source": [
    "X = PFSA.from_str('''\n",
    "O->A3 [ .3\n",
    "O->A2 [ .2\n",
    "O->A1 [ .1\n",
    "O->B b .25\n",
    "O->F . .15\n",
    "B->B b .8\n",
    "B->O b .2\n",
    "A3->A2 a 1.\n",
    "A2->A1 a 1.\n",
    "A1->A0 a 1.\n",
    "A0->O ] 1.\n",
    "F->F . 1.\n",
    "''')"
   ]
  },
  {
   "cell_type": "code",
   "execution_count": 19,
   "metadata": {},
   "outputs": [
    {
     "data": {
      "text/html": [
       "<table><tr><td title=\"7 states, 5 symbols, 12 transitions\n",
       "mtype: &lt;class 'numpy.ndarray'&gt;\" style=\"border:thin solid black;text-align:center;background-color:white;color:blue;\">🛈</td><td style=\"border:thin solid black;text-align:center;background-color:blue;color: white;writing-mode:vertical-lr;min-width:.5cm;\"><b>O</b></td><td style=\"border:thin solid black;text-align:center;background-color:blue;color: white;writing-mode:vertical-lr;min-width:.5cm;\"><b>B</b></td><td style=\"border:thin solid black;text-align:center;background-color:blue;color: white;writing-mode:vertical-lr;min-width:.5cm;\"><b>A3</b></td><td style=\"border:thin solid black;text-align:center;background-color:blue;color: white;writing-mode:vertical-lr;min-width:.5cm;\"><b>A2</b></td><td style=\"border:thin solid black;text-align:center;background-color:blue;color: white;writing-mode:vertical-lr;min-width:.5cm;\"><b>A1</b></td><td style=\"border:thin solid black;text-align:center;background-color:blue;color: white;writing-mode:vertical-lr;min-width:.5cm;\"><b>A0</b></td><td style=\"border:thin solid black;text-align:center;background-color:blue;color: white;background-color: darkblue;writing-mode:vertical-lr;min-width:.5cm;\"><b>F</b></td></tr><tr><td style=\"border:thin solid black;text-align:center;background-color:blue;color: white;\"><b>O</b></td><td title=\"0.0\n",
       "\" style=\"border:thin solid black;text-align:center;font-size:x-small\"></td><td title=\"0.25\n",
       "b 0.25\" style=\"border:thin solid black;text-align:center;font-size:x-small\">0.25</td><td title=\"0.3\n",
       "[ 0.3\" style=\"border:thin solid black;text-align:center;font-size:x-small\">0.3</td><td title=\"0.2\n",
       "[ 0.2\" style=\"border:thin solid black;text-align:center;font-size:x-small\">0.2</td><td title=\"0.1\n",
       "[ 0.1\" style=\"border:thin solid black;text-align:center;font-size:x-small\">0.1</td><td title=\"0.0\n",
       "\" style=\"border:thin solid black;text-align:center;font-size:x-small\"></td><td title=\"0.15\n",
       ". 0.15\" style=\"border:thin solid black;text-align:center;font-size:x-small\">0.15</td></tr><tr><td style=\"border:thin solid black;text-align:center;background-color:blue;color: white;\"><b>B</b></td><td title=\"0.2\n",
       "b 0.2\" style=\"border:thin solid black;text-align:center;font-size:x-small\">0.2</td><td title=\"0.8\n",
       "b 0.8\" style=\"border:thin solid black;text-align:center;font-size:x-small\">0.8</td><td title=\"0.0\n",
       "\" style=\"border:thin solid black;text-align:center;font-size:x-small\"></td><td title=\"0.0\n",
       "\" style=\"border:thin solid black;text-align:center;font-size:x-small\"></td><td title=\"0.0\n",
       "\" style=\"border:thin solid black;text-align:center;font-size:x-small\"></td><td title=\"0.0\n",
       "\" style=\"border:thin solid black;text-align:center;font-size:x-small\"></td><td title=\"0.0\n",
       "\" style=\"border:thin solid black;text-align:center;font-size:x-small\"></td></tr><tr><td style=\"border:thin solid black;text-align:center;background-color:blue;color: white;\"><b>A3</b></td><td title=\"0.0\n",
       "\" style=\"border:thin solid black;text-align:center;font-size:x-small\"></td><td title=\"0.0\n",
       "\" style=\"border:thin solid black;text-align:center;font-size:x-small\"></td><td title=\"0.0\n",
       "\" style=\"border:thin solid black;text-align:center;font-size:x-small\"></td><td title=\"1.0\n",
       "a 1.0\" style=\"border:thin solid black;text-align:center;font-size:x-small\">1.0</td><td title=\"0.0\n",
       "\" style=\"border:thin solid black;text-align:center;font-size:x-small\"></td><td title=\"0.0\n",
       "\" style=\"border:thin solid black;text-align:center;font-size:x-small\"></td><td title=\"0.0\n",
       "\" style=\"border:thin solid black;text-align:center;font-size:x-small\"></td></tr><tr><td style=\"border:thin solid black;text-align:center;background-color:blue;color: white;\"><b>A2</b></td><td title=\"0.0\n",
       "\" style=\"border:thin solid black;text-align:center;font-size:x-small\"></td><td title=\"0.0\n",
       "\" style=\"border:thin solid black;text-align:center;font-size:x-small\"></td><td title=\"0.0\n",
       "\" style=\"border:thin solid black;text-align:center;font-size:x-small\"></td><td title=\"0.0\n",
       "\" style=\"border:thin solid black;text-align:center;font-size:x-small\"></td><td title=\"1.0\n",
       "a 1.0\" style=\"border:thin solid black;text-align:center;font-size:x-small\">1.0</td><td title=\"0.0\n",
       "\" style=\"border:thin solid black;text-align:center;font-size:x-small\"></td><td title=\"0.0\n",
       "\" style=\"border:thin solid black;text-align:center;font-size:x-small\"></td></tr><tr><td style=\"border:thin solid black;text-align:center;background-color:blue;color: white;\"><b>A1</b></td><td title=\"0.0\n",
       "\" style=\"border:thin solid black;text-align:center;font-size:x-small\"></td><td title=\"0.0\n",
       "\" style=\"border:thin solid black;text-align:center;font-size:x-small\"></td><td title=\"0.0\n",
       "\" style=\"border:thin solid black;text-align:center;font-size:x-small\"></td><td title=\"0.0\n",
       "\" style=\"border:thin solid black;text-align:center;font-size:x-small\"></td><td title=\"0.0\n",
       "\" style=\"border:thin solid black;text-align:center;font-size:x-small\"></td><td title=\"1.0\n",
       "a 1.0\" style=\"border:thin solid black;text-align:center;font-size:x-small\">1.0</td><td title=\"0.0\n",
       "\" style=\"border:thin solid black;text-align:center;font-size:x-small\"></td></tr><tr><td style=\"border:thin solid black;text-align:center;background-color:blue;color: white;\"><b>A0</b></td><td title=\"1.0\n",
       "] 1.0\" style=\"border:thin solid black;text-align:center;font-size:x-small\">1.0</td><td title=\"0.0\n",
       "\" style=\"border:thin solid black;text-align:center;font-size:x-small\"></td><td title=\"0.0\n",
       "\" style=\"border:thin solid black;text-align:center;font-size:x-small\"></td><td title=\"0.0\n",
       "\" style=\"border:thin solid black;text-align:center;font-size:x-small\"></td><td title=\"0.0\n",
       "\" style=\"border:thin solid black;text-align:center;font-size:x-small\"></td><td title=\"0.0\n",
       "\" style=\"border:thin solid black;text-align:center;font-size:x-small\"></td><td title=\"0.0\n",
       "\" style=\"border:thin solid black;text-align:center;font-size:x-small\"></td></tr><tr><td style=\"border:thin solid black;text-align:center;background-color:blue;color: white;background-color: darkblue;\"><b>F</b></td><td title=\"0.0\n",
       "\" style=\"border:thin solid black;text-align:center;font-size:x-small\"></td><td title=\"0.0\n",
       "\" style=\"border:thin solid black;text-align:center;font-size:x-small\"></td><td title=\"0.0\n",
       "\" style=\"border:thin solid black;text-align:center;font-size:x-small\"></td><td title=\"0.0\n",
       "\" style=\"border:thin solid black;text-align:center;font-size:x-small\"></td><td title=\"0.0\n",
       "\" style=\"border:thin solid black;text-align:center;font-size:x-small\"></td><td title=\"0.0\n",
       "\" style=\"border:thin solid black;text-align:center;font-size:x-small\"></td><td title=\"1.0\n",
       ". 1.0\" style=\"border:thin solid black;text-align:center;font-size:x-small\">1.0</td></tr></table>"
      ]
     },
     "metadata": {},
     "output_type": "display_data"
    }
   ],
   "source": [
    "display_html(X)"
   ]
  },
  {
   "cell_type": "code",
   "execution_count": 20,
   "metadata": {},
   "outputs": [
    {
     "name": "stdout",
     "output_type": "stream",
     "text": [
      "Producing sample of size 10000 on 9 batches [0.232s]\n",
      "Expected length\n",
      "\tempirical  : 27.0767 [0.00108s]\n",
      "\ttheoretical: 27.3333333333333 [7.3e-05s]\n",
      "Entropy\n",
      "\tempirical  : 12.829616561708 [0.16s]\n",
      "\ttheoretical: Error! [2.98e-05s]\n",
      "Sample (10/10000)\n",
      "5037     0   \n",
      "7137    15   bbb[aa]bbbbbbbb\n",
      "7965    14   [a][aaa]bbbbbb\n",
      "1508    35   [aa]bbbb[aaa][aaa][aa][aaa][aaa][a]\n",
      "7173     0   \n",
      "1233    70   [a][aaa][aaa][a][aaa][aaa]bbbbb[aa][aaa]bbbbbbbbb[aa][aaa][aaa]bbb[aa]\n",
      " 355    98   [aaa]bb[aa][aa]bbbbb[a]bbbbbbbb[aa]bbbbbbbb[aaa][aa]bbbbbbbbbbbbbbbbbbb[aaa][aaa][aa]bbbbbb[aa][a]\n",
      "9516     0   \n",
      "1340    31   [aaa][aa]bbb[aa][aa]bbbbbbbbbbb\n",
      "2067    30   [aa][a][aa][aa][aaa][aa]bbbbbb\n"
     ]
    },
    {
     "ename": "NotImplementedError",
     "evalue": "Entropy available only for deterministic automata",
     "output_type": "error",
     "traceback": [
      "\u001b[0;31m---------------------------------------------------------------------------\u001b[0m",
      "\u001b[0;31mNotImplementedError\u001b[0m                       Traceback (most recent call last)",
      "\u001b[0;32m<ipython-input-20-118cbd2bdbf6>\u001b[0m in \u001b[0;36m<module>\u001b[0;34m\u001b[0m\n\u001b[0;32m----> 1\u001b[0;31m \u001b[0msample\u001b[0m \u001b[0;34m=\u001b[0m \u001b[0mtest\u001b[0m\u001b[0;34m(\u001b[0m\u001b[0mX\u001b[0m\u001b[0;34m,\u001b[0m\u001b[0;36m10000\u001b[0m\u001b[0;34m,\u001b[0m\u001b[0mstart\u001b[0m\u001b[0;34m=\u001b[0m\u001b[0;34m'O'\u001b[0m\u001b[0;34m)\u001b[0m\u001b[0;34m\u001b[0m\u001b[0;34m\u001b[0m\u001b[0m\n\u001b[0m",
      "\u001b[0;32m<ipython-input-2-bd573a3dd7ff>\u001b[0m in \u001b[0;36mtest\u001b[0;34m(X, nsample, start, **alt)\u001b[0m\n\u001b[1;32m     32\u001b[0m       \u001b[0;32mwith\u001b[0m \u001b[0mptime\u001b[0m\u001b[0;34m(\u001b[0m\u001b[0;34m)\u001b[0m\u001b[0;34m:\u001b[0m \u001b[0mv\u001b[0m \u001b[0;34m=\u001b[0m \u001b[0mD\u001b[0m\u001b[0;34m[\u001b[0m\u001b[0;34m'empirical'\u001b[0m\u001b[0;34m]\u001b[0m\u001b[0;34m(\u001b[0m\u001b[0mX\u001b[0m\u001b[0;34m,\u001b[0m\u001b[0mstart\u001b[0m\u001b[0;34m,\u001b[0m\u001b[0msample\u001b[0m\u001b[0;34m)\u001b[0m\u001b[0;34m;\u001b[0m \u001b[0mprint\u001b[0m\u001b[0;34m(\u001b[0m\u001b[0;34m'{:.15g}'\u001b[0m\u001b[0;34m.\u001b[0m\u001b[0mformat\u001b[0m\u001b[0;34m(\u001b[0m\u001b[0mv\u001b[0m\u001b[0;34m)\u001b[0m\u001b[0;34m,\u001b[0m\u001b[0mend\u001b[0m\u001b[0;34m=\u001b[0m\u001b[0;34m''\u001b[0m\u001b[0;34m)\u001b[0m\u001b[0;34m\u001b[0m\u001b[0;34m\u001b[0m\u001b[0m\n\u001b[1;32m     33\u001b[0m       \u001b[0mprint\u001b[0m\u001b[0;34m(\u001b[0m\u001b[0;34m'\\ttheoretical: '\u001b[0m\u001b[0;34m,\u001b[0m\u001b[0mend\u001b[0m\u001b[0;34m=\u001b[0m\u001b[0;34m''\u001b[0m\u001b[0;34m,\u001b[0m\u001b[0mflush\u001b[0m\u001b[0;34m=\u001b[0m\u001b[0;32mTrue\u001b[0m\u001b[0;34m)\u001b[0m\u001b[0;34m\u001b[0m\u001b[0;34m\u001b[0m\u001b[0m\n\u001b[0;32m---> 34\u001b[0;31m       \u001b[0;32mwith\u001b[0m \u001b[0mptime\u001b[0m\u001b[0;34m(\u001b[0m\u001b[0;34m)\u001b[0m\u001b[0;34m:\u001b[0m \u001b[0mv\u001b[0m \u001b[0;34m=\u001b[0m \u001b[0mD\u001b[0m\u001b[0;34m[\u001b[0m\u001b[0;34m'theoretical'\u001b[0m\u001b[0;34m]\u001b[0m\u001b[0;34m(\u001b[0m\u001b[0mX\u001b[0m\u001b[0;34m,\u001b[0m\u001b[0mstart\u001b[0m\u001b[0;34m)\u001b[0m\u001b[0;34m;\u001b[0m \u001b[0mprint\u001b[0m\u001b[0;34m(\u001b[0m\u001b[0;34m'{:.15g}'\u001b[0m\u001b[0;34m.\u001b[0m\u001b[0mformat\u001b[0m\u001b[0;34m(\u001b[0m\u001b[0mv\u001b[0m\u001b[0;34m)\u001b[0m\u001b[0;34m,\u001b[0m\u001b[0mend\u001b[0m\u001b[0;34m=\u001b[0m\u001b[0;34m''\u001b[0m\u001b[0;34m)\u001b[0m\u001b[0;34m\u001b[0m\u001b[0;34m\u001b[0m\u001b[0m\n\u001b[0m\u001b[1;32m     35\u001b[0m       \u001b[0mv\u001b[0m \u001b[0;34m=\u001b[0m \u001b[0malt\u001b[0m\u001b[0;34m.\u001b[0m\u001b[0mget\u001b[0m\u001b[0;34m(\u001b[0m\u001b[0mkey\u001b[0m\u001b[0;34m)\u001b[0m\u001b[0;34m\u001b[0m\u001b[0;34m\u001b[0m\u001b[0m\n\u001b[1;32m     36\u001b[0m       \u001b[0;32mif\u001b[0m \u001b[0mv\u001b[0m \u001b[0;32mis\u001b[0m \u001b[0;32mnot\u001b[0m \u001b[0;32mNone\u001b[0m\u001b[0;34m:\u001b[0m \u001b[0mprint\u001b[0m\u001b[0;34m(\u001b[0m\u001b[0;34m'\\talternative: {:.15g}'\u001b[0m\u001b[0;34m.\u001b[0m\u001b[0mformat\u001b[0m\u001b[0;34m(\u001b[0m\u001b[0mv\u001b[0m\u001b[0;34m)\u001b[0m\u001b[0;34m)\u001b[0m\u001b[0;34m\u001b[0m\u001b[0;34m\u001b[0m\u001b[0m\n",
      "\u001b[0;32m<ipython-input-2-bd573a3dd7ff>\u001b[0m in \u001b[0;36m<lambda>\u001b[0;34m(X, start)\u001b[0m\n\u001b[1;32m     10\u001b[0m     \u001b[0mtitle\u001b[0m\u001b[0;34m=\u001b[0m\u001b[0;34m'Entropy'\u001b[0m\u001b[0;34m,\u001b[0m\u001b[0;34m\u001b[0m\u001b[0;34m\u001b[0m\u001b[0m\n\u001b[1;32m     11\u001b[0m     \u001b[0mempirical\u001b[0m\u001b[0;34m=\u001b[0m\u001b[0;32mlambda\u001b[0m \u001b[0mX\u001b[0m\u001b[0;34m,\u001b[0m\u001b[0mstart\u001b[0m\u001b[0;34m,\u001b[0m\u001b[0msample\u001b[0m\u001b[0;34m:\u001b[0m \u001b[0;34m-\u001b[0m\u001b[0mmean\u001b[0m\u001b[0;34m(\u001b[0m\u001b[0mX\u001b[0m\u001b[0;34m.\u001b[0m\u001b[0mlogproba\u001b[0m\u001b[0;34m(\u001b[0m\u001b[0msample\u001b[0m\u001b[0;34m,\u001b[0m\u001b[0mstart\u001b[0m\u001b[0;34m)\u001b[0m\u001b[0;34m)\u001b[0m\u001b[0;34m,\u001b[0m\u001b[0;34m\u001b[0m\u001b[0;34m\u001b[0m\u001b[0m\n\u001b[0;32m---> 12\u001b[0;31m     \u001b[0mtheoretical\u001b[0m\u001b[0;34m=\u001b[0m\u001b[0;32mlambda\u001b[0m \u001b[0mX\u001b[0m\u001b[0;34m,\u001b[0m\u001b[0mstart\u001b[0m\u001b[0;34m:\u001b[0m \u001b[0mX\u001b[0m\u001b[0;34m.\u001b[0m\u001b[0mentropy\u001b[0m\u001b[0;34m(\u001b[0m\u001b[0mstart\u001b[0m\u001b[0;34m)\u001b[0m\u001b[0;34m,\u001b[0m\u001b[0;34m\u001b[0m\u001b[0;34m\u001b[0m\u001b[0m\n\u001b[0m\u001b[1;32m     13\u001b[0m   )),\n\u001b[1;32m     14\u001b[0m )\n",
      "\u001b[0;32m/local/tools/anaconda/mypkgs/wfsa/probabilistic.py\u001b[0m in \u001b[0;36mentropy\u001b[0;34m(self, start)\u001b[0m\n\u001b[1;32m    202\u001b[0m     \u001b[0mr\u001b[0m \u001b[0;34m=\u001b[0m \u001b[0mself\u001b[0m\u001b[0;34m.\u001b[0m\u001b[0mentropy_\u001b[0m\u001b[0;34m\u001b[0m\u001b[0;34m\u001b[0m\u001b[0m\n\u001b[1;32m    203\u001b[0m     \u001b[0;32mif\u001b[0m \u001b[0mr\u001b[0m \u001b[0;32mis\u001b[0m \u001b[0;32mNone\u001b[0m\u001b[0;34m:\u001b[0m\u001b[0;34m\u001b[0m\u001b[0;34m\u001b[0m\u001b[0m\n\u001b[0;32m--> 204\u001b[0;31m       \u001b[0;32mif\u001b[0m \u001b[0;32mnot\u001b[0m \u001b[0mself\u001b[0m\u001b[0;34m.\u001b[0m\u001b[0mdeterministic\u001b[0m\u001b[0;34m:\u001b[0m \u001b[0;32mraise\u001b[0m \u001b[0mNotImplementedError\u001b[0m\u001b[0;34m(\u001b[0m\u001b[0;34m'Entropy available only for deterministic automata'\u001b[0m\u001b[0;34m)\u001b[0m\u001b[0;34m\u001b[0m\u001b[0;34m\u001b[0m\u001b[0m\n\u001b[0m\u001b[1;32m    205\u001b[0m       \u001b[0mr\u001b[0m \u001b[0;34m=\u001b[0m \u001b[0mself\u001b[0m\u001b[0;34m.\u001b[0m\u001b[0mentropy_\u001b[0m \u001b[0;34m=\u001b[0m \u001b[0mzeros\u001b[0m\u001b[0;34m(\u001b[0m\u001b[0mself\u001b[0m\u001b[0;34m.\u001b[0m\u001b[0mN\u001b[0m\u001b[0;34m)\u001b[0m\u001b[0;34m\u001b[0m\u001b[0;34m\u001b[0m\u001b[0m\n\u001b[1;32m    206\u001b[0m       \u001b[0mu\u001b[0m \u001b[0;34m=\u001b[0m \u001b[0msum\u001b[0m\u001b[0;34m(\u001b[0m\u001b[0ment\u001b[0m\u001b[0;34m(\u001b[0m\u001b[0msum\u001b[0m\u001b[0;34m(\u001b[0m\u001b[0mw\u001b[0m\u001b[0;34m,\u001b[0m\u001b[0maxis\u001b[0m\u001b[0;34m=\u001b[0m\u001b[0;36m1\u001b[0m\u001b[0;34m)\u001b[0m\u001b[0;34m)\u001b[0m \u001b[0;32mfor\u001b[0m \u001b[0mw\u001b[0m \u001b[0;32min\u001b[0m \u001b[0mself\u001b[0m\u001b[0;34m.\u001b[0m\u001b[0mW\u001b[0m\u001b[0;34m)\u001b[0m\u001b[0;34m[\u001b[0m\u001b[0mself\u001b[0m\u001b[0;34m.\u001b[0m\u001b[0mnonfinal\u001b[0m\u001b[0;34m]\u001b[0m\u001b[0;34m\u001b[0m\u001b[0;34m\u001b[0m\u001b[0m\n",
      "\u001b[0;31mNotImplementedError\u001b[0m: Entropy available only for deterministic automata"
     ]
    }
   ],
   "source": [
    "sample = test(X,10000,start='O')"
   ]
  },
  {
   "cell_type": "markdown",
   "metadata": {},
   "source": [
    "# Sample management"
   ]
  },
  {
   "cell_type": "code",
   "execution_count": 2,
   "metadata": {},
   "outputs": [
    {
     "data": {
      "text/plain": [
       "<wfsa.util.Sample at 0x7fcf784744f0>"
      ]
     },
     "execution_count": 2,
     "metadata": {},
     "output_type": "execute_result"
    }
   ],
   "source": [
    "R = FileBatch('samples')\n",
    "sample = R.toSample()\n",
    "sample"
   ]
  },
  {
   "cell_type": "code",
   "execution_count": 3,
   "metadata": {},
   "outputs": [
    {
     "name": "stdout",
     "output_type": "stream",
     "text": [
      "7944    21   [aa][aaa][aaa][a][aa]\n",
      "6614    11   [aa][aaa]bb\n",
      "2038    42   [aaa]bb[aaa][aa][aa]bbbbbbbbbbbbbbbbbb[aa]\n",
      " 798    74   bbb[aa]bbbbbbbbbbbbbbbbbbbbbbbbbbbbbbbbbbbbbbbb[aa][aa][aaa][aaa][aa][aaa]\n",
      "5393    19   [aa]bbbbbbb[aaa]bbb\n",
      "3143    44   bbbb[a]bbb[aa]bbbbbbb[aa][aaa]bbbbbbbbb[aaa]\n",
      "3603    38   [aaa]bb[aa][aaa][a][aaa][aaa][aaa]bbbb\n",
      "9055     5   [aaa]\n",
      "3076    53   bb[a][aa][aa][aaa][aa][aa][aaa][aa]bbbbb[aaa][aa]bbbb\n",
      "8546    18   [aa]bbbbbbbbbb[aa]\n"
     ]
    }
   ],
   "source": [
    "sample.pprint('[b.a]',pick=10,translate={ord('.'):''})"
   ]
  },
  {
   "cell_type": "code",
   "execution_count": null,
   "metadata": {},
   "outputs": [],
   "source": []
  }
 ],
 "metadata": {
  "kernelspec": {
   "display_name": "Python 3",
   "language": "python",
   "name": "python3"
  },
  "language_info": {
   "codemirror_mode": {
    "name": "ipython",
    "version": 3
   },
   "file_extension": ".py",
   "mimetype": "text/x-python",
   "name": "python",
   "nbconvert_exporter": "python",
   "pygments_lexer": "ipython3",
   "version": "3.8.6"
  },
  "varInspector": {
   "cols": {
    "lenName": 16,
    "lenType": 16,
    "lenVar": 40
   },
   "kernels_config": {
    "python": {
     "delete_cmd_postfix": "",
     "delete_cmd_prefix": "del ",
     "library": "var_list.py",
     "varRefreshCmd": "print(var_dic_list())"
    },
    "r": {
     "delete_cmd_postfix": ") ",
     "delete_cmd_prefix": "rm(",
     "library": "var_list.r",
     "varRefreshCmd": "cat(var_dic_list()) "
    }
   },
   "types_to_exclude": [
    "module",
    "function",
    "builtin_function_or_method",
    "instance",
    "_Feature"
   ],
   "window_display": false
  }
 },
 "nbformat": 4,
 "nbformat_minor": 2
}
